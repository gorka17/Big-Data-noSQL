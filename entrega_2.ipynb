{
 "cells": [
  {
   "cell_type": "markdown",
   "metadata": {},
   "source": [
    "## ENTREGA 2: CREACIÓN DE BBDD EN MONGODB"
   ]
  },
  {
   "cell_type": "markdown",
   "metadata": {},
   "source": [
    "En este notebook se muestran los pasos seguidos para la realización de la practica, desde la creación de la base de datos y la colección correspondiente, hasta la ingesta de datos de 100 jugadoras. Finalmente, también se muestran a modo de ejemplo algunas consultas analíticas sobre la base de datos (junto con los tiempos de respuesta) para comprobar que todo funciona correctamente."
   ]
  },
  {
   "cell_type": "markdown",
   "metadata": {},
   "source": [
    "En primer lugar, importamos la librería pymongo, que nos va a permitir conectarnos a una instancia de MongoDB. Para ello, únicamente hay que utilizar la clase MongoClient y especificar la IP y el puerto en el que corre MongoDB. En este caso, mi máquina está conectada a un contenedor de Docker en el que está corriendo MongoDB ya que mapée los puertos al crear el contenedor."
   ]
  },
  {
   "cell_type": "code",
   "execution_count": 172,
   "metadata": {},
   "outputs": [],
   "source": [
    "from pymongo import MongoClient\n",
    "\n",
    "client = MongoClient(\"localhost\", 27017)"
   ]
  },
  {
   "cell_type": "markdown",
   "metadata": {},
   "source": [
    "Una vez conectado a MongoDB, creo una base de datos llamada player_database y le asigno la variable db."
   ]
  },
  {
   "cell_type": "code",
   "execution_count": 173,
   "metadata": {},
   "outputs": [],
   "source": [
    "db = client.player_database\n"
   ]
  },
  {
   "cell_type": "markdown",
   "metadata": {},
   "source": [
    "Dentro de esta base de datos, creo una colección llamada players y le asigno una variable con el mismo nombre. Será en esta colección donde se almacenen las instancias de datos."
   ]
  },
  {
   "cell_type": "code",
   "execution_count": 174,
   "metadata": {},
   "outputs": [],
   "source": [
    "players = db.players\n"
   ]
  },
  {
   "cell_type": "markdown",
   "metadata": {},
   "source": [
    "Con el fin de simplificar la creación de datos y su ingesta, he creado la función generate_random_data. En ella, asigno valores aleatorios a cada dato a partir de listas con posibles valores. También hay algunos datos como el número de goles para los que simplemente escojo un valor numérico aleatorio. Una vez creo todos los datos de una jugadora, se suben a la base de datos. Este proceso se repite 100 veces."
   ]
  },
  {
   "cell_type": "code",
   "execution_count": 175,
   "metadata": {},
   "outputs": [],
   "source": [
    "import random\n",
    "\n",
    "def generate_random_data():\n",
    "    nombres = [\"Aisha\", \"Sakura\", \"Maria\", \"Fatima\", \"Sofia\", \n",
    "               \"Carmen\", \"Mei\", \"Emily\", \"Amara\", \"Ingrid\", \n",
    "               \"Anya\", \"Priya\", \"Zofia\", \"Lucia\", \"Chloe\"]\n",
    "\n",
    "    apellidos_1 = [\"Garcia\", \"Muller\", \"Kim\", \"Smith\", \"Khan\", \n",
    "                   \"Dupont\", \"Santos\", \"Yamamoto\", \"Haddad\", \"Ivanov\", \n",
    "                   \"Andersson\", \"Patel\", \"Oliveira\", \"Kowalski\", \"O'Connor\"]\n",
    "    \n",
    "    apellidos_2 = [\"Garcia\", \"Muller\", \"Kim\", \"Smith\", \"Khan\", \n",
    "                   \"Dupont\", \"Santos\", \"Yamamoto\", \"Haddad\", \"Ivanov\", \n",
    "                   \"Andersson\", \"Patel\", \"Oliveira\", \"Kowalski\", \"O'Connor\"]\n",
    "    \n",
    "    posiciones = ['Defensa', 'Centrocampista', 'Delantera']\n",
    "\n",
    "    equipos = [\"FC Barcelona\", \"Real Madrid\", \"Bayern Munich\", \"Juventus\", \n",
    "               \"Manchester City\", \"Paris Saint-Germain\", \"Chelsea FC\", \n",
    "               \"Ajax\", \"Borussia Dortmund\", \"Inter de Milan\", \n",
    "               \"Arsenal\", \"Tottenham Hotspur\", \"Napoli\", \"Atletico de Madrid\", \"AC Milan\"]\n",
    "\n",
    "    nacionalidades = [\"Espaniola\", \"Alemana\", \"Japonesa\", \"Estadounidense\", \"Argentina\", \n",
    "                      \"China\", \"Italiana\", \"Nigeriana\", \"Francesa\", \"India\", \n",
    "                      \"Noruega\", \"Rusa\", \"Polaca\", \"Mexicana\", \"Egipcia\"]\n",
    "    \n",
    "    pierna_dominante = ['Izquierda', 'Derecha', 'Ambas']\n",
    "\n",
    "    # Diccionario para asignar liga correcta en base a equipo.\n",
    "    equipos_y_ligas = {\"FC Barcelona\": \"La Liga\",\n",
    "                       \"Real Madrid\": \"La Liga\",\n",
    "                       \"Bayern Munich\": \"Bundesliga\",\n",
    "                       \"Juventus\": \"Serie A (Italia)\",\n",
    "                       \"Manchester City\": \"Premier League\",\n",
    "                       \"Paris Saint-Germain\": \"Ligue 1\",\n",
    "                       \"Chelsea FC\": \"Premier League\",\n",
    "                       \"Ajax\": \"Eredivisie\",\n",
    "                       \"Borussia Dortmund\": \"Bundesliga\",\n",
    "                       \"Inter de Milán\": \"Serie A\",\n",
    "                       \"Arsenal\": \"Premier League\",\n",
    "                       \"Tottenham Hotspur\": \"Premier League\",\n",
    "                       \"Napoli\": \"Serie A\",\n",
    "                       \"Atletico de Madrid\": \"La Liga\",\n",
    "                       \"AC Milan\": \"Serie A\"}\n",
    "    \n",
    "    capitana = ['Si', 'No']\n",
    "\n",
    "    for i in range(100):\n",
    "\n",
    "        equipo = random.choice(equipos)\n",
    "        año_comienzo = random.randint(2020, 2023)\n",
    "        edad = random.randint(16, 21)\n",
    "        altura = random.randint(150, 190)\n",
    "        peso = random.randint(50, 70)\n",
    "        dorsal = random.randint(2, 30)\n",
    "        temporadas_en_equipo = random.randint(1, 3)\n",
    "\n",
    "        # Por cada año recogemos las estadísticas de la jugadora.\n",
    "        stats_año = {}\n",
    "        for año in range(año_comienzo, 2024):\n",
    "            stats_año[str(año)] = {\n",
    "                'goles': random.randint(0, 20),\n",
    "                'asistencias': random.randint(0, 20),\n",
    "                'porcentaje disparos gol': random.randint(50, 100),\n",
    "                'porcentaje pases acertados': random.randint(50, 100),\n",
    "                'porcentaje duelos aereos ganados': random.randint(25, 100),\n",
    "                'velocidad maxima': random.randint(25, 30),\n",
    "                'minutos jugados': random.randint(900, 4000),\n",
    "                'tarjetas amarillas': random.randint(0, 10),\n",
    "                'tarjetas rojas': random.randint(0, 5),\n",
    "                'numero lesiones': random.randint(0, 2),\n",
    "                'partidos como internacional': random.randint(0, 20)\n",
    "            }\n",
    "\n",
    "        # Asignamos los datos generados a la jugadora.\n",
    "        jugadora = {\n",
    "            'identificador': i+1,\n",
    "            'nombre': random.choice(nombres),\n",
    "            'apellido_1': random.choice(apellidos_1),\n",
    "            'apellido_2': random.choice(apellidos_2),\n",
    "            'posicion': random.choice(posiciones),\n",
    "            'equipo': equipo,\n",
    "            'liga': equipos_y_ligas.get(equipo),\n",
    "            'dorsal': dorsal,\n",
    "            'temporadas en equipo': temporadas_en_equipo,\n",
    "            'capitana': random.choice(capitana),\n",
    "            'nacionalidad': random.choice(nacionalidades),\n",
    "            'anio de inicio': año_comienzo,\n",
    "            'edad': edad,\n",
    "            'altura': altura,\n",
    "            'peso': peso,\n",
    "            'pierna dominante': random.choice(pierna_dominante),\n",
    "            'estadisticas': stats_año\n",
    "        }\n",
    "\n",
    "        # Subir info de cada jugadora a la base de datos.\n",
    "        players.insert_one(jugadora)"
   ]
  },
  {
   "cell_type": "markdown",
   "metadata": {},
   "source": [
    "Una vez creada la función, la llamamos."
   ]
  },
  {
   "cell_type": "code",
   "execution_count": 176,
   "metadata": {},
   "outputs": [],
   "source": [
    "generate_random_data()"
   ]
  },
  {
   "cell_type": "markdown",
   "metadata": {},
   "source": [
    "Para comprobar que todo se ha subido correctamente, muestro información de una de las jugadoras."
   ]
  },
  {
   "cell_type": "code",
   "execution_count": 179,
   "metadata": {},
   "outputs": [
    {
     "name": "stdout",
     "output_type": "stream",
     "text": [
      "{\n",
      "    \"_id\": \"674769af1d7a4a76639b3497\",\n",
      "    \"identificador\": 1,\n",
      "    \"nombre\": \"Zofia\",\n",
      "    \"apellido_1\": \"Oliveira\",\n",
      "    \"apellido_2\": \"Garcia\",\n",
      "    \"posicion\": \"Centrocampista\",\n",
      "    \"equipo\": \"Borussia Dortmund\",\n",
      "    \"liga\": \"Bundesliga\",\n",
      "    \"dorsal\": 24,\n",
      "    \"temporadas en equipo\": 3,\n",
      "    \"capitana\": \"No\",\n",
      "    \"nacionalidad\": \"Egipcia\",\n",
      "    \"anio de inicio\": 2021,\n",
      "    \"edad\": 20,\n",
      "    \"altura\": 157,\n",
      "    \"peso\": 54,\n",
      "    \"pierna dominante\": \"Derecha\",\n",
      "    \"estadisticas\": {\n",
      "        \"2021\": {\n",
      "            \"goles\": 9,\n",
      "            \"asistencias\": 13,\n",
      "            \"porcentaje disparos gol\": 87,\n",
      "            \"porcentaje pases acertados\": 56,\n",
      "            \"porcentaje duelos aereos ganados\": 94,\n",
      "            \"velocidad maxima\": 30,\n",
      "            \"minutos jugados\": 2951,\n",
      "            \"tarjetas amarillas\": 7,\n",
      "            \"tarjetas rojas\": 1,\n",
      "            \"numero lesiones\": 1,\n",
      "            \"partidos como internacional\": 17\n",
      "        },\n",
      "        \"2022\": {\n",
      "            \"goles\": 9,\n",
      "            \"asistencias\": 7,\n",
      "            \"porcentaje disparos gol\": 55,\n",
      "            \"porcentaje pases acertados\": 86,\n",
      "            \"porcentaje duelos aereos ganados\": 37,\n",
      "            \"velocidad maxima\": 28,\n",
      "            \"minutos jugados\": 2685,\n",
      "            \"tarjetas amarillas\": 5,\n",
      "            \"tarjetas rojas\": 3,\n",
      "            \"numero lesiones\": 2,\n",
      "            \"partidos como internacional\": 9\n",
      "        },\n",
      "        \"2023\": {\n",
      "            \"goles\": 9,\n",
      "            \"asistencias\": 17,\n",
      "            \"porcentaje disparos gol\": 67,\n",
      "            \"porcentaje pases acertados\": 96,\n",
      "            \"porcentaje duelos aereos ganados\": 65,\n",
      "            \"velocidad maxima\": 30,\n",
      "            \"minutos jugados\": 2307,\n",
      "            \"tarjetas amarillas\": 1,\n",
      "            \"tarjetas rojas\": 5,\n",
      "            \"numero lesiones\": 2,\n",
      "            \"partidos como internacional\": 20\n",
      "        }\n",
      "    }\n",
      "}\n"
     ]
    }
   ],
   "source": [
    "import json\n",
    "\n",
    "doc = players.find_one()\n",
    "doc_json = json.dumps(doc, default=str, indent=4)\n",
    "print(doc_json)"
   ]
  },
  {
   "cell_type": "markdown",
   "metadata": {},
   "source": [
    "## CONSULTAS"
   ]
  },
  {
   "cell_type": "markdown",
   "metadata": {},
   "source": [
    "Una vez se ha explicado cómo se crea la base de datos y cómo se ha realizado la ingesta de datos, en este apartado voy realizar una serie de consultas analíticas orientadas al caso de uso que se detalla en el documento adjunto en la entrega. Para cada consulta, se muestra además del resultado, el tiempo requerido para obtener la respuesta. En primer lugar quiero obtener información acerca de aquellas jugadoras que comenzaron en el fútbol profesional después del año 2021."
   ]
  },
  {
   "cell_type": "code",
   "execution_count": 180,
   "metadata": {},
   "outputs": [
    {
     "name": "stdout",
     "output_type": "stream",
     "text": [
      "{'_id': ObjectId('674769af1d7a4a76639b349a'), 'identificador': 4, 'nombre': 'Amara', 'apellido_1': 'Patel', 'apellido_2': 'Kim', 'posicion': 'Centrocampista', 'equipo': 'Tottenham Hotspur', 'liga': 'Premier League', 'dorsal': 5, 'temporadas en equipo': 2, 'capitana': 'Si', 'nacionalidad': 'Italiana', 'anio de inicio': 2022, 'edad': 19, 'altura': 188, 'peso': 68, 'pierna dominante': 'Derecha', 'estadisticas': {'2022': {'goles': 1, 'asistencias': 18, 'porcentaje disparos gol': 72, 'porcentaje pases acertados': 78, 'porcentaje duelos aereos ganados': 49, 'velocidad maxima': 25, 'minutos jugados': 3080, 'tarjetas amarillas': 6, 'tarjetas rojas': 0, 'numero lesiones': 1, 'partidos como internacional': 8}, '2023': {'goles': 10, 'asistencias': 15, 'porcentaje disparos gol': 96, 'porcentaje pases acertados': 76, 'porcentaje duelos aereos ganados': 68, 'velocidad maxima': 30, 'minutos jugados': 1827, 'tarjetas amarillas': 6, 'tarjetas rojas': 0, 'numero lesiones': 2, 'partidos como internacional': 7}}}\n",
      "{'_id': ObjectId('674769af1d7a4a76639b349c'), 'identificador': 6, 'nombre': 'Fatima', 'apellido_1': 'Kowalski', 'apellido_2': 'Garcia', 'posicion': 'Defensa', 'equipo': 'Napoli', 'liga': 'Serie A', 'dorsal': 20, 'temporadas en equipo': 1, 'capitana': 'No', 'nacionalidad': 'Rusa', 'anio de inicio': 2023, 'edad': 19, 'altura': 153, 'peso': 59, 'pierna dominante': 'Izquierda', 'estadisticas': {'2023': {'goles': 19, 'asistencias': 6, 'porcentaje disparos gol': 53, 'porcentaje pases acertados': 58, 'porcentaje duelos aereos ganados': 48, 'velocidad maxima': 25, 'minutos jugados': 1009, 'tarjetas amarillas': 1, 'tarjetas rojas': 3, 'numero lesiones': 1, 'partidos como internacional': 3}}}\n",
      "{'_id': ObjectId('674769af1d7a4a76639b349d'), 'identificador': 7, 'nombre': 'Lucia', 'apellido_1': 'Yamamoto', 'apellido_2': 'Muller', 'posicion': 'Centrocampista', 'equipo': 'Napoli', 'liga': 'Serie A', 'dorsal': 12, 'temporadas en equipo': 3, 'capitana': 'Si', 'nacionalidad': 'Noruega', 'anio de inicio': 2022, 'edad': 19, 'altura': 184, 'peso': 58, 'pierna dominante': 'Ambas', 'estadisticas': {'2022': {'goles': 17, 'asistencias': 7, 'porcentaje disparos gol': 76, 'porcentaje pases acertados': 90, 'porcentaje duelos aereos ganados': 77, 'velocidad maxima': 26, 'minutos jugados': 1430, 'tarjetas amarillas': 8, 'tarjetas rojas': 5, 'numero lesiones': 2, 'partidos como internacional': 2}, '2023': {'goles': 20, 'asistencias': 3, 'porcentaje disparos gol': 85, 'porcentaje pases acertados': 94, 'porcentaje duelos aereos ganados': 97, 'velocidad maxima': 30, 'minutos jugados': 2358, 'tarjetas amarillas': 4, 'tarjetas rojas': 2, 'numero lesiones': 2, 'partidos como internacional': 18}}}\n",
      "{'_id': ObjectId('674769af1d7a4a76639b34a0'), 'identificador': 10, 'nombre': 'Priya', 'apellido_1': \"O'Connor\", 'apellido_2': 'Ivanov', 'posicion': 'Defensa', 'equipo': 'Borussia Dortmund', 'liga': 'Bundesliga', 'dorsal': 11, 'temporadas en equipo': 2, 'capitana': 'No', 'nacionalidad': 'Japonesa', 'anio de inicio': 2022, 'edad': 16, 'altura': 182, 'peso': 68, 'pierna dominante': 'Derecha', 'estadisticas': {'2022': {'goles': 0, 'asistencias': 11, 'porcentaje disparos gol': 63, 'porcentaje pases acertados': 98, 'porcentaje duelos aereos ganados': 48, 'velocidad maxima': 26, 'minutos jugados': 1201, 'tarjetas amarillas': 1, 'tarjetas rojas': 1, 'numero lesiones': 1, 'partidos como internacional': 12}, '2023': {'goles': 19, 'asistencias': 14, 'porcentaje disparos gol': 71, 'porcentaje pases acertados': 53, 'porcentaje duelos aereos ganados': 99, 'velocidad maxima': 27, 'minutos jugados': 3473, 'tarjetas amarillas': 4, 'tarjetas rojas': 3, 'numero lesiones': 1, 'partidos como internacional': 11}}}\n",
      "{'_id': ObjectId('674769af1d7a4a76639b34a2'), 'identificador': 12, 'nombre': 'Ingrid', 'apellido_1': 'Garcia', 'apellido_2': 'Garcia', 'posicion': 'Defensa', 'equipo': 'Napoli', 'liga': 'Serie A', 'dorsal': 21, 'temporadas en equipo': 1, 'capitana': 'No', 'nacionalidad': 'Polaca', 'anio de inicio': 2022, 'edad': 18, 'altura': 182, 'peso': 67, 'pierna dominante': 'Ambas', 'estadisticas': {'2022': {'goles': 8, 'asistencias': 12, 'porcentaje disparos gol': 98, 'porcentaje pases acertados': 69, 'porcentaje duelos aereos ganados': 50, 'velocidad maxima': 25, 'minutos jugados': 2605, 'tarjetas amarillas': 1, 'tarjetas rojas': 0, 'numero lesiones': 1, 'partidos como internacional': 11}, '2023': {'goles': 2, 'asistencias': 8, 'porcentaje disparos gol': 59, 'porcentaje pases acertados': 89, 'porcentaje duelos aereos ganados': 64, 'velocidad maxima': 30, 'minutos jugados': 1006, 'tarjetas amarillas': 0, 'tarjetas rojas': 2, 'numero lesiones': 0, 'partidos como internacional': 9}}}\n",
      "{'_id': ObjectId('674769af1d7a4a76639b34a4'), 'identificador': 14, 'nombre': 'Emily', 'apellido_1': 'Santos', 'apellido_2': \"O'Connor\", 'posicion': 'Defensa', 'equipo': 'Real Madrid', 'liga': 'La Liga', 'dorsal': 27, 'temporadas en equipo': 2, 'capitana': 'No', 'nacionalidad': 'China', 'anio de inicio': 2022, 'edad': 19, 'altura': 152, 'peso': 57, 'pierna dominante': 'Izquierda', 'estadisticas': {'2022': {'goles': 16, 'asistencias': 12, 'porcentaje disparos gol': 99, 'porcentaje pases acertados': 77, 'porcentaje duelos aereos ganados': 44, 'velocidad maxima': 30, 'minutos jugados': 3991, 'tarjetas amarillas': 3, 'tarjetas rojas': 0, 'numero lesiones': 0, 'partidos como internacional': 19}, '2023': {'goles': 7, 'asistencias': 2, 'porcentaje disparos gol': 64, 'porcentaje pases acertados': 77, 'porcentaje duelos aereos ganados': 75, 'velocidad maxima': 26, 'minutos jugados': 3683, 'tarjetas amarillas': 6, 'tarjetas rojas': 2, 'numero lesiones': 2, 'partidos como internacional': 10}}}\n",
      "{'_id': ObjectId('674769af1d7a4a76639b34a5'), 'identificador': 15, 'nombre': 'Ingrid', 'apellido_1': 'Yamamoto', 'apellido_2': 'Ivanov', 'posicion': 'Defensa', 'equipo': 'Chelsea FC', 'liga': 'Premier League', 'dorsal': 16, 'temporadas en equipo': 3, 'capitana': 'Si', 'nacionalidad': 'Noruega', 'anio de inicio': 2023, 'edad': 16, 'altura': 189, 'peso': 63, 'pierna dominante': 'Derecha', 'estadisticas': {'2023': {'goles': 12, 'asistencias': 12, 'porcentaje disparos gol': 91, 'porcentaje pases acertados': 74, 'porcentaje duelos aereos ganados': 91, 'velocidad maxima': 25, 'minutos jugados': 1185, 'tarjetas amarillas': 3, 'tarjetas rojas': 0, 'numero lesiones': 1, 'partidos como internacional': 20}}}\n",
      "{'_id': ObjectId('674769af1d7a4a76639b34a8'), 'identificador': 18, 'nombre': 'Carmen', 'apellido_1': 'Kim', 'apellido_2': 'Santos', 'posicion': 'Delantera', 'equipo': 'Borussia Dortmund', 'liga': 'Bundesliga', 'dorsal': 26, 'temporadas en equipo': 1, 'capitana': 'Si', 'nacionalidad': 'Italiana', 'anio de inicio': 2023, 'edad': 19, 'altura': 159, 'peso': 63, 'pierna dominante': 'Ambas', 'estadisticas': {'2023': {'goles': 17, 'asistencias': 6, 'porcentaje disparos gol': 91, 'porcentaje pases acertados': 80, 'porcentaje duelos aereos ganados': 76, 'velocidad maxima': 28, 'minutos jugados': 1105, 'tarjetas amarillas': 4, 'tarjetas rojas': 1, 'numero lesiones': 0, 'partidos como internacional': 3}}}\n",
      "{'_id': ObjectId('674769af1d7a4a76639b34a9'), 'identificador': 19, 'nombre': 'Priya', 'apellido_1': 'Andersson', 'apellido_2': 'Khan', 'posicion': 'Defensa', 'equipo': 'FC Barcelona', 'liga': 'La Liga', 'dorsal': 10, 'temporadas en equipo': 1, 'capitana': 'No', 'nacionalidad': 'Espaniola', 'anio de inicio': 2022, 'edad': 18, 'altura': 187, 'peso': 63, 'pierna dominante': 'Derecha', 'estadisticas': {'2022': {'goles': 16, 'asistencias': 15, 'porcentaje disparos gol': 52, 'porcentaje pases acertados': 92, 'porcentaje duelos aereos ganados': 61, 'velocidad maxima': 27, 'minutos jugados': 1630, 'tarjetas amarillas': 2, 'tarjetas rojas': 4, 'numero lesiones': 0, 'partidos como internacional': 0}, '2023': {'goles': 9, 'asistencias': 11, 'porcentaje disparos gol': 54, 'porcentaje pases acertados': 84, 'porcentaje duelos aereos ganados': 37, 'velocidad maxima': 30, 'minutos jugados': 3217, 'tarjetas amarillas': 1, 'tarjetas rojas': 3, 'numero lesiones': 0, 'partidos como internacional': 3}}}\n",
      "{'_id': ObjectId('674769af1d7a4a76639b34ab'), 'identificador': 21, 'nombre': 'Priya', 'apellido_1': 'Santos', 'apellido_2': 'Garcia', 'posicion': 'Defensa', 'equipo': 'Chelsea FC', 'liga': 'Premier League', 'dorsal': 3, 'temporadas en equipo': 1, 'capitana': 'Si', 'nacionalidad': 'Polaca', 'anio de inicio': 2022, 'edad': 18, 'altura': 166, 'peso': 68, 'pierna dominante': 'Izquierda', 'estadisticas': {'2022': {'goles': 3, 'asistencias': 13, 'porcentaje disparos gol': 57, 'porcentaje pases acertados': 98, 'porcentaje duelos aereos ganados': 74, 'velocidad maxima': 29, 'minutos jugados': 1256, 'tarjetas amarillas': 6, 'tarjetas rojas': 5, 'numero lesiones': 1, 'partidos como internacional': 3}, '2023': {'goles': 5, 'asistencias': 0, 'porcentaje disparos gol': 53, 'porcentaje pases acertados': 90, 'porcentaje duelos aereos ganados': 57, 'velocidad maxima': 27, 'minutos jugados': 1364, 'tarjetas amarillas': 4, 'tarjetas rojas': 1, 'numero lesiones': 1, 'partidos como internacional': 12}}}\n",
      "{'_id': ObjectId('674769af1d7a4a76639b34ad'), 'identificador': 23, 'nombre': 'Carmen', 'apellido_1': 'Kowalski', 'apellido_2': 'Haddad', 'posicion': 'Centrocampista', 'equipo': 'FC Barcelona', 'liga': 'La Liga', 'dorsal': 15, 'temporadas en equipo': 1, 'capitana': 'Si', 'nacionalidad': 'Mexicana', 'anio de inicio': 2023, 'edad': 17, 'altura': 177, 'peso': 60, 'pierna dominante': 'Izquierda', 'estadisticas': {'2023': {'goles': 12, 'asistencias': 8, 'porcentaje disparos gol': 80, 'porcentaje pases acertados': 61, 'porcentaje duelos aereos ganados': 31, 'velocidad maxima': 27, 'minutos jugados': 1918, 'tarjetas amarillas': 1, 'tarjetas rojas': 4, 'numero lesiones': 2, 'partidos como internacional': 15}}}\n",
      "{'_id': ObjectId('674769af1d7a4a76639b34b0'), 'identificador': 26, 'nombre': 'Aisha', 'apellido_1': 'Dupont', 'apellido_2': 'Muller', 'posicion': 'Delantera', 'equipo': 'Chelsea FC', 'liga': 'Premier League', 'dorsal': 27, 'temporadas en equipo': 1, 'capitana': 'Si', 'nacionalidad': 'Egipcia', 'anio de inicio': 2022, 'edad': 16, 'altura': 180, 'peso': 54, 'pierna dominante': 'Derecha', 'estadisticas': {'2022': {'goles': 16, 'asistencias': 12, 'porcentaje disparos gol': 55, 'porcentaje pases acertados': 66, 'porcentaje duelos aereos ganados': 95, 'velocidad maxima': 30, 'minutos jugados': 1795, 'tarjetas amarillas': 0, 'tarjetas rojas': 5, 'numero lesiones': 2, 'partidos como internacional': 13}, '2023': {'goles': 6, 'asistencias': 12, 'porcentaje disparos gol': 62, 'porcentaje pases acertados': 68, 'porcentaje duelos aereos ganados': 58, 'velocidad maxima': 26, 'minutos jugados': 2588, 'tarjetas amarillas': 2, 'tarjetas rojas': 4, 'numero lesiones': 1, 'partidos como internacional': 1}}}\n",
      "{'_id': ObjectId('674769af1d7a4a76639b34b3'), 'identificador': 29, 'nombre': 'Fatima', 'apellido_1': 'Patel', 'apellido_2': 'Kim', 'posicion': 'Defensa', 'equipo': 'Napoli', 'liga': 'Serie A', 'dorsal': 9, 'temporadas en equipo': 3, 'capitana': 'Si', 'nacionalidad': 'China', 'anio de inicio': 2023, 'edad': 21, 'altura': 182, 'peso': 53, 'pierna dominante': 'Izquierda', 'estadisticas': {'2023': {'goles': 7, 'asistencias': 0, 'porcentaje disparos gol': 76, 'porcentaje pases acertados': 70, 'porcentaje duelos aereos ganados': 55, 'velocidad maxima': 30, 'minutos jugados': 1267, 'tarjetas amarillas': 1, 'tarjetas rojas': 3, 'numero lesiones': 2, 'partidos como internacional': 1}}}\n",
      "{'_id': ObjectId('674769af1d7a4a76639b34b7'), 'identificador': 33, 'nombre': 'Amara', 'apellido_1': 'Ivanov', 'apellido_2': \"O'Connor\", 'posicion': 'Delantera', 'equipo': 'Manchester City', 'liga': 'Premier League', 'dorsal': 30, 'temporadas en equipo': 3, 'capitana': 'Si', 'nacionalidad': 'Italiana', 'anio de inicio': 2022, 'edad': 17, 'altura': 167, 'peso': 64, 'pierna dominante': 'Izquierda', 'estadisticas': {'2022': {'goles': 12, 'asistencias': 11, 'porcentaje disparos gol': 79, 'porcentaje pases acertados': 50, 'porcentaje duelos aereos ganados': 28, 'velocidad maxima': 25, 'minutos jugados': 2173, 'tarjetas amarillas': 3, 'tarjetas rojas': 1, 'numero lesiones': 1, 'partidos como internacional': 16}, '2023': {'goles': 8, 'asistencias': 16, 'porcentaje disparos gol': 50, 'porcentaje pases acertados': 94, 'porcentaje duelos aereos ganados': 84, 'velocidad maxima': 28, 'minutos jugados': 1738, 'tarjetas amarillas': 6, 'tarjetas rojas': 3, 'numero lesiones': 1, 'partidos como internacional': 8}}}\n",
      "{'_id': ObjectId('674769af1d7a4a76639b34ba'), 'identificador': 36, 'nombre': 'Emily', 'apellido_1': 'Kowalski', 'apellido_2': 'Haddad', 'posicion': 'Centrocampista', 'equipo': 'Atletico de Madrid', 'liga': 'La Liga', 'dorsal': 18, 'temporadas en equipo': 2, 'capitana': 'Si', 'nacionalidad': 'Japonesa', 'anio de inicio': 2023, 'edad': 16, 'altura': 190, 'peso': 58, 'pierna dominante': 'Izquierda', 'estadisticas': {'2023': {'goles': 14, 'asistencias': 18, 'porcentaje disparos gol': 82, 'porcentaje pases acertados': 97, 'porcentaje duelos aereos ganados': 77, 'velocidad maxima': 26, 'minutos jugados': 1477, 'tarjetas amarillas': 4, 'tarjetas rojas': 5, 'numero lesiones': 1, 'partidos como internacional': 7}}}\n",
      "{'_id': ObjectId('674769af1d7a4a76639b34bb'), 'identificador': 37, 'nombre': 'Anya', 'apellido_1': 'Khan', 'apellido_2': 'Garcia', 'posicion': 'Centrocampista', 'equipo': 'Paris Saint-Germain', 'liga': 'Ligue 1', 'dorsal': 28, 'temporadas en equipo': 1, 'capitana': 'Si', 'nacionalidad': 'Italiana', 'anio de inicio': 2023, 'edad': 18, 'altura': 158, 'peso': 50, 'pierna dominante': 'Derecha', 'estadisticas': {'2023': {'goles': 9, 'asistencias': 17, 'porcentaje disparos gol': 99, 'porcentaje pases acertados': 94, 'porcentaje duelos aereos ganados': 87, 'velocidad maxima': 30, 'minutos jugados': 1893, 'tarjetas amarillas': 2, 'tarjetas rojas': 1, 'numero lesiones': 0, 'partidos como internacional': 12}}}\n",
      "{'_id': ObjectId('674769af1d7a4a76639b34be'), 'identificador': 40, 'nombre': 'Fatima', 'apellido_1': 'Yamamoto', 'apellido_2': 'Khan', 'posicion': 'Delantera', 'equipo': 'AC Milan', 'liga': 'Serie A', 'dorsal': 30, 'temporadas en equipo': 2, 'capitana': 'No', 'nacionalidad': 'Noruega', 'anio de inicio': 2023, 'edad': 16, 'altura': 157, 'peso': 58, 'pierna dominante': 'Derecha', 'estadisticas': {'2023': {'goles': 1, 'asistencias': 19, 'porcentaje disparos gol': 57, 'porcentaje pases acertados': 99, 'porcentaje duelos aereos ganados': 54, 'velocidad maxima': 25, 'minutos jugados': 2909, 'tarjetas amarillas': 5, 'tarjetas rojas': 2, 'numero lesiones': 2, 'partidos como internacional': 13}}}\n",
      "{'_id': ObjectId('674769af1d7a4a76639b34bf'), 'identificador': 41, 'nombre': 'Lucia', 'apellido_1': 'Patel', 'apellido_2': 'Dupont', 'posicion': 'Centrocampista', 'equipo': 'Paris Saint-Germain', 'liga': 'Ligue 1', 'dorsal': 29, 'temporadas en equipo': 3, 'capitana': 'Si', 'nacionalidad': 'Nigeriana', 'anio de inicio': 2023, 'edad': 17, 'altura': 182, 'peso': 53, 'pierna dominante': 'Derecha', 'estadisticas': {'2023': {'goles': 17, 'asistencias': 20, 'porcentaje disparos gol': 99, 'porcentaje pases acertados': 100, 'porcentaje duelos aereos ganados': 69, 'velocidad maxima': 26, 'minutos jugados': 3703, 'tarjetas amarillas': 1, 'tarjetas rojas': 0, 'numero lesiones': 0, 'partidos como internacional': 10}}}\n",
      "{'_id': ObjectId('674769af1d7a4a76639b34c0'), 'identificador': 42, 'nombre': 'Priya', 'apellido_1': 'Khan', 'apellido_2': 'Ivanov', 'posicion': 'Delantera', 'equipo': 'AC Milan', 'liga': 'Serie A', 'dorsal': 10, 'temporadas en equipo': 1, 'capitana': 'Si', 'nacionalidad': 'Nigeriana', 'anio de inicio': 2023, 'edad': 19, 'altura': 165, 'peso': 65, 'pierna dominante': 'Derecha', 'estadisticas': {'2023': {'goles': 9, 'asistencias': 13, 'porcentaje disparos gol': 50, 'porcentaje pases acertados': 81, 'porcentaje duelos aereos ganados': 56, 'velocidad maxima': 27, 'minutos jugados': 3163, 'tarjetas amarillas': 3, 'tarjetas rojas': 1, 'numero lesiones': 2, 'partidos como internacional': 6}}}\n",
      "{'_id': ObjectId('674769af1d7a4a76639b34c1'), 'identificador': 43, 'nombre': 'Lucia', 'apellido_1': 'Kim', 'apellido_2': 'Garcia', 'posicion': 'Defensa', 'equipo': 'Juventus', 'liga': 'Serie A (Italia)', 'dorsal': 26, 'temporadas en equipo': 3, 'capitana': 'Si', 'nacionalidad': 'India', 'anio de inicio': 2022, 'edad': 19, 'altura': 162, 'peso': 55, 'pierna dominante': 'Derecha', 'estadisticas': {'2022': {'goles': 14, 'asistencias': 18, 'porcentaje disparos gol': 80, 'porcentaje pases acertados': 78, 'porcentaje duelos aereos ganados': 93, 'velocidad maxima': 30, 'minutos jugados': 1801, 'tarjetas amarillas': 2, 'tarjetas rojas': 5, 'numero lesiones': 2, 'partidos como internacional': 3}, '2023': {'goles': 9, 'asistencias': 2, 'porcentaje disparos gol': 78, 'porcentaje pases acertados': 75, 'porcentaje duelos aereos ganados': 58, 'velocidad maxima': 30, 'minutos jugados': 2050, 'tarjetas amarillas': 2, 'tarjetas rojas': 3, 'numero lesiones': 1, 'partidos como internacional': 16}}}\n",
      "{'_id': ObjectId('674769af1d7a4a76639b34c2'), 'identificador': 44, 'nombre': 'Mei', 'apellido_1': 'Garcia', 'apellido_2': 'Haddad', 'posicion': 'Defensa', 'equipo': 'Tottenham Hotspur', 'liga': 'Premier League', 'dorsal': 13, 'temporadas en equipo': 2, 'capitana': 'Si', 'nacionalidad': 'Alemana', 'anio de inicio': 2023, 'edad': 21, 'altura': 170, 'peso': 63, 'pierna dominante': 'Ambas', 'estadisticas': {'2023': {'goles': 9, 'asistencias': 2, 'porcentaje disparos gol': 64, 'porcentaje pases acertados': 77, 'porcentaje duelos aereos ganados': 87, 'velocidad maxima': 28, 'minutos jugados': 3593, 'tarjetas amarillas': 6, 'tarjetas rojas': 2, 'numero lesiones': 2, 'partidos como internacional': 14}}}\n",
      "{'_id': ObjectId('674769af1d7a4a76639b34c4'), 'identificador': 46, 'nombre': 'Chloe', 'apellido_1': 'Ivanov', 'apellido_2': 'Kowalski', 'posicion': 'Centrocampista', 'equipo': 'Chelsea FC', 'liga': 'Premier League', 'dorsal': 14, 'temporadas en equipo': 3, 'capitana': 'Si', 'nacionalidad': 'Polaca', 'anio de inicio': 2022, 'edad': 18, 'altura': 180, 'peso': 54, 'pierna dominante': 'Ambas', 'estadisticas': {'2022': {'goles': 16, 'asistencias': 3, 'porcentaje disparos gol': 78, 'porcentaje pases acertados': 94, 'porcentaje duelos aereos ganados': 59, 'velocidad maxima': 25, 'minutos jugados': 2794, 'tarjetas amarillas': 2, 'tarjetas rojas': 2, 'numero lesiones': 2, 'partidos como internacional': 0}, '2023': {'goles': 18, 'asistencias': 18, 'porcentaje disparos gol': 75, 'porcentaje pases acertados': 74, 'porcentaje duelos aereos ganados': 82, 'velocidad maxima': 30, 'minutos jugados': 2813, 'tarjetas amarillas': 2, 'tarjetas rojas': 0, 'numero lesiones': 1, 'partidos como internacional': 15}}}\n",
      "{'_id': ObjectId('674769af1d7a4a76639b34c6'), 'identificador': 48, 'nombre': 'Amara', 'apellido_1': 'Andersson', 'apellido_2': 'Kim', 'posicion': 'Delantera', 'equipo': 'Bayern Munich', 'liga': 'Bundesliga', 'dorsal': 23, 'temporadas en equipo': 1, 'capitana': 'No', 'nacionalidad': 'Francesa', 'anio de inicio': 2023, 'edad': 16, 'altura': 184, 'peso': 62, 'pierna dominante': 'Izquierda', 'estadisticas': {'2023': {'goles': 4, 'asistencias': 9, 'porcentaje disparos gol': 81, 'porcentaje pases acertados': 65, 'porcentaje duelos aereos ganados': 100, 'velocidad maxima': 25, 'minutos jugados': 1488, 'tarjetas amarillas': 7, 'tarjetas rojas': 0, 'numero lesiones': 0, 'partidos como internacional': 15}}}\n",
      "{'_id': ObjectId('674769af1d7a4a76639b34c7'), 'identificador': 49, 'nombre': 'Priya', 'apellido_1': 'Yamamoto', 'apellido_2': 'Andersson', 'posicion': 'Centrocampista', 'equipo': 'AC Milan', 'liga': 'Serie A', 'dorsal': 23, 'temporadas en equipo': 2, 'capitana': 'No', 'nacionalidad': 'China', 'anio de inicio': 2023, 'edad': 20, 'altura': 170, 'peso': 70, 'pierna dominante': 'Ambas', 'estadisticas': {'2023': {'goles': 16, 'asistencias': 19, 'porcentaje disparos gol': 70, 'porcentaje pases acertados': 84, 'porcentaje duelos aereos ganados': 39, 'velocidad maxima': 30, 'minutos jugados': 3525, 'tarjetas amarillas': 3, 'tarjetas rojas': 5, 'numero lesiones': 0, 'partidos como internacional': 15}}}\n",
      "{'_id': ObjectId('674769af1d7a4a76639b34c8'), 'identificador': 50, 'nombre': 'Lucia', 'apellido_1': 'Kim', 'apellido_2': 'Haddad', 'posicion': 'Defensa', 'equipo': 'Atletico de Madrid', 'liga': 'La Liga', 'dorsal': 26, 'temporadas en equipo': 2, 'capitana': 'No', 'nacionalidad': 'Alemana', 'anio de inicio': 2023, 'edad': 16, 'altura': 162, 'peso': 68, 'pierna dominante': 'Ambas', 'estadisticas': {'2023': {'goles': 5, 'asistencias': 13, 'porcentaje disparos gol': 95, 'porcentaje pases acertados': 87, 'porcentaje duelos aereos ganados': 70, 'velocidad maxima': 26, 'minutos jugados': 952, 'tarjetas amarillas': 4, 'tarjetas rojas': 3, 'numero lesiones': 2, 'partidos como internacional': 10}}}\n",
      "{'_id': ObjectId('674769af1d7a4a76639b34cc'), 'identificador': 54, 'nombre': 'Chloe', 'apellido_1': 'Patel', 'apellido_2': \"O'Connor\", 'posicion': 'Defensa', 'equipo': 'Manchester City', 'liga': 'Premier League', 'dorsal': 21, 'temporadas en equipo': 3, 'capitana': 'Si', 'nacionalidad': 'Francesa', 'anio de inicio': 2022, 'edad': 19, 'altura': 182, 'peso': 56, 'pierna dominante': 'Izquierda', 'estadisticas': {'2022': {'goles': 13, 'asistencias': 14, 'porcentaje disparos gol': 95, 'porcentaje pases acertados': 53, 'porcentaje duelos aereos ganados': 93, 'velocidad maxima': 25, 'minutos jugados': 3694, 'tarjetas amarillas': 3, 'tarjetas rojas': 3, 'numero lesiones': 1, 'partidos como internacional': 1}, '2023': {'goles': 8, 'asistencias': 5, 'porcentaje disparos gol': 86, 'porcentaje pases acertados': 82, 'porcentaje duelos aereos ganados': 80, 'velocidad maxima': 29, 'minutos jugados': 1684, 'tarjetas amarillas': 7, 'tarjetas rojas': 2, 'numero lesiones': 0, 'partidos como internacional': 14}}}\n",
      "{'_id': ObjectId('674769af1d7a4a76639b34cd'), 'identificador': 55, 'nombre': 'Mei', 'apellido_1': 'Dupont', 'apellido_2': 'Garcia', 'posicion': 'Delantera', 'equipo': 'Ajax', 'liga': 'Eredivisie', 'dorsal': 25, 'temporadas en equipo': 2, 'capitana': 'No', 'nacionalidad': 'Egipcia', 'anio de inicio': 2023, 'edad': 19, 'altura': 177, 'peso': 50, 'pierna dominante': 'Ambas', 'estadisticas': {'2023': {'goles': 19, 'asistencias': 8, 'porcentaje disparos gol': 78, 'porcentaje pases acertados': 74, 'porcentaje duelos aereos ganados': 80, 'velocidad maxima': 27, 'minutos jugados': 2838, 'tarjetas amarillas': 8, 'tarjetas rojas': 2, 'numero lesiones': 2, 'partidos como internacional': 5}}}\n",
      "{'_id': ObjectId('674769af1d7a4a76639b34d1'), 'identificador': 59, 'nombre': 'Lucia', 'apellido_1': 'Haddad', 'apellido_2': 'Patel', 'posicion': 'Defensa', 'equipo': 'FC Barcelona', 'liga': 'La Liga', 'dorsal': 20, 'temporadas en equipo': 1, 'capitana': 'Si', 'nacionalidad': 'Estadounidense', 'anio de inicio': 2022, 'edad': 20, 'altura': 155, 'peso': 63, 'pierna dominante': 'Derecha', 'estadisticas': {'2022': {'goles': 8, 'asistencias': 2, 'porcentaje disparos gol': 93, 'porcentaje pases acertados': 84, 'porcentaje duelos aereos ganados': 90, 'velocidad maxima': 26, 'minutos jugados': 3993, 'tarjetas amarillas': 9, 'tarjetas rojas': 5, 'numero lesiones': 1, 'partidos como internacional': 12}, '2023': {'goles': 0, 'asistencias': 11, 'porcentaje disparos gol': 66, 'porcentaje pases acertados': 66, 'porcentaje duelos aereos ganados': 92, 'velocidad maxima': 25, 'minutos jugados': 2730, 'tarjetas amarillas': 7, 'tarjetas rojas': 5, 'numero lesiones': 1, 'partidos como internacional': 8}}}\n",
      "{'_id': ObjectId('674769af1d7a4a76639b34d2'), 'identificador': 60, 'nombre': 'Zofia', 'apellido_1': 'Kowalski', 'apellido_2': 'Patel', 'posicion': 'Centrocampista', 'equipo': 'Chelsea FC', 'liga': 'Premier League', 'dorsal': 26, 'temporadas en equipo': 3, 'capitana': 'No', 'nacionalidad': 'Italiana', 'anio de inicio': 2023, 'edad': 16, 'altura': 169, 'peso': 55, 'pierna dominante': 'Izquierda', 'estadisticas': {'2023': {'goles': 18, 'asistencias': 13, 'porcentaje disparos gol': 92, 'porcentaje pases acertados': 51, 'porcentaje duelos aereos ganados': 76, 'velocidad maxima': 25, 'minutos jugados': 2507, 'tarjetas amarillas': 1, 'tarjetas rojas': 0, 'numero lesiones': 2, 'partidos como internacional': 2}}}\n",
      "{'_id': ObjectId('674769af1d7a4a76639b34d3'), 'identificador': 61, 'nombre': 'Zofia', 'apellido_1': 'Santos', 'apellido_2': 'Muller', 'posicion': 'Delantera', 'equipo': 'Arsenal', 'liga': 'Premier League', 'dorsal': 23, 'temporadas en equipo': 2, 'capitana': 'No', 'nacionalidad': 'Alemana', 'anio de inicio': 2023, 'edad': 18, 'altura': 166, 'peso': 62, 'pierna dominante': 'Izquierda', 'estadisticas': {'2023': {'goles': 12, 'asistencias': 1, 'porcentaje disparos gol': 69, 'porcentaje pases acertados': 62, 'porcentaje duelos aereos ganados': 25, 'velocidad maxima': 30, 'minutos jugados': 3100, 'tarjetas amarillas': 3, 'tarjetas rojas': 1, 'numero lesiones': 0, 'partidos como internacional': 8}}}\n",
      "{'_id': ObjectId('674769af1d7a4a76639b34d4'), 'identificador': 62, 'nombre': 'Sakura', 'apellido_1': 'Smith', 'apellido_2': 'Dupont', 'posicion': 'Defensa', 'equipo': 'Chelsea FC', 'liga': 'Premier League', 'dorsal': 22, 'temporadas en equipo': 2, 'capitana': 'No', 'nacionalidad': 'Nigeriana', 'anio de inicio': 2023, 'edad': 18, 'altura': 174, 'peso': 57, 'pierna dominante': 'Derecha', 'estadisticas': {'2023': {'goles': 8, 'asistencias': 19, 'porcentaje disparos gol': 66, 'porcentaje pases acertados': 62, 'porcentaje duelos aereos ganados': 67, 'velocidad maxima': 26, 'minutos jugados': 3292, 'tarjetas amarillas': 4, 'tarjetas rojas': 5, 'numero lesiones': 1, 'partidos como internacional': 16}}}\n",
      "{'_id': ObjectId('674769af1d7a4a76639b34d7'), 'identificador': 65, 'nombre': 'Zofia', 'apellido_1': 'Dupont', 'apellido_2': 'Kowalski', 'posicion': 'Centrocampista', 'equipo': 'Juventus', 'liga': 'Serie A (Italia)', 'dorsal': 26, 'temporadas en equipo': 3, 'capitana': 'No', 'nacionalidad': 'Egipcia', 'anio de inicio': 2023, 'edad': 17, 'altura': 182, 'peso': 50, 'pierna dominante': 'Ambas', 'estadisticas': {'2023': {'goles': 5, 'asistencias': 0, 'porcentaje disparos gol': 83, 'porcentaje pases acertados': 67, 'porcentaje duelos aereos ganados': 71, 'velocidad maxima': 26, 'minutos jugados': 3194, 'tarjetas amarillas': 8, 'tarjetas rojas': 2, 'numero lesiones': 1, 'partidos como internacional': 5}}}\n",
      "{'_id': ObjectId('674769af1d7a4a76639b34db'), 'identificador': 69, 'nombre': 'Chloe', 'apellido_1': 'Andersson', 'apellido_2': 'Santos', 'posicion': 'Centrocampista', 'equipo': 'Paris Saint-Germain', 'liga': 'Ligue 1', 'dorsal': 21, 'temporadas en equipo': 3, 'capitana': 'Si', 'nacionalidad': 'Francesa', 'anio de inicio': 2023, 'edad': 18, 'altura': 165, 'peso': 60, 'pierna dominante': 'Izquierda', 'estadisticas': {'2023': {'goles': 18, 'asistencias': 8, 'porcentaje disparos gol': 56, 'porcentaje pases acertados': 85, 'porcentaje duelos aereos ganados': 50, 'velocidad maxima': 29, 'minutos jugados': 3743, 'tarjetas amarillas': 3, 'tarjetas rojas': 2, 'numero lesiones': 0, 'partidos como internacional': 20}}}\n",
      "{'_id': ObjectId('674769af1d7a4a76639b34dc'), 'identificador': 70, 'nombre': 'Zofia', 'apellido_1': 'Patel', 'apellido_2': 'Haddad', 'posicion': 'Defensa', 'equipo': 'Manchester City', 'liga': 'Premier League', 'dorsal': 14, 'temporadas en equipo': 3, 'capitana': 'Si', 'nacionalidad': 'Rusa', 'anio de inicio': 2023, 'edad': 21, 'altura': 160, 'peso': 50, 'pierna dominante': 'Derecha', 'estadisticas': {'2023': {'goles': 6, 'asistencias': 7, 'porcentaje disparos gol': 63, 'porcentaje pases acertados': 54, 'porcentaje duelos aereos ganados': 47, 'velocidad maxima': 25, 'minutos jugados': 3549, 'tarjetas amarillas': 3, 'tarjetas rojas': 5, 'numero lesiones': 0, 'partidos como internacional': 2}}}\n",
      "{'_id': ObjectId('674769af1d7a4a76639b34dd'), 'identificador': 71, 'nombre': 'Amara', 'apellido_1': 'Dupont', 'apellido_2': 'Yamamoto', 'posicion': 'Delantera', 'equipo': 'Borussia Dortmund', 'liga': 'Bundesliga', 'dorsal': 17, 'temporadas en equipo': 3, 'capitana': 'Si', 'nacionalidad': 'Estadounidense', 'anio de inicio': 2023, 'edad': 17, 'altura': 150, 'peso': 52, 'pierna dominante': 'Ambas', 'estadisticas': {'2023': {'goles': 17, 'asistencias': 3, 'porcentaje disparos gol': 90, 'porcentaje pases acertados': 81, 'porcentaje duelos aereos ganados': 76, 'velocidad maxima': 29, 'minutos jugados': 1570, 'tarjetas amarillas': 7, 'tarjetas rojas': 5, 'numero lesiones': 0, 'partidos como internacional': 8}}}\n",
      "{'_id': ObjectId('674769af1d7a4a76639b34e0'), 'identificador': 74, 'nombre': 'Lucia', 'apellido_1': 'Kim', 'apellido_2': 'Patel', 'posicion': 'Defensa', 'equipo': 'FC Barcelona', 'liga': 'La Liga', 'dorsal': 29, 'temporadas en equipo': 1, 'capitana': 'No', 'nacionalidad': 'India', 'anio de inicio': 2022, 'edad': 18, 'altura': 188, 'peso': 66, 'pierna dominante': 'Izquierda', 'estadisticas': {'2022': {'goles': 17, 'asistencias': 8, 'porcentaje disparos gol': 83, 'porcentaje pases acertados': 85, 'porcentaje duelos aereos ganados': 34, 'velocidad maxima': 25, 'minutos jugados': 2693, 'tarjetas amarillas': 4, 'tarjetas rojas': 0, 'numero lesiones': 2, 'partidos como internacional': 20}, '2023': {'goles': 5, 'asistencias': 20, 'porcentaje disparos gol': 99, 'porcentaje pases acertados': 92, 'porcentaje duelos aereos ganados': 71, 'velocidad maxima': 27, 'minutos jugados': 3433, 'tarjetas amarillas': 3, 'tarjetas rojas': 4, 'numero lesiones': 2, 'partidos como internacional': 16}}}\n",
      "{'_id': ObjectId('674769af1d7a4a76639b34e1'), 'identificador': 75, 'nombre': 'Lucia', 'apellido_1': 'Dupont', 'apellido_2': 'Ivanov', 'posicion': 'Delantera', 'equipo': 'Ajax', 'liga': 'Eredivisie', 'dorsal': 24, 'temporadas en equipo': 1, 'capitana': 'No', 'nacionalidad': 'Italiana', 'anio de inicio': 2023, 'edad': 17, 'altura': 165, 'peso': 63, 'pierna dominante': 'Derecha', 'estadisticas': {'2023': {'goles': 0, 'asistencias': 5, 'porcentaje disparos gol': 60, 'porcentaje pases acertados': 66, 'porcentaje duelos aereos ganados': 26, 'velocidad maxima': 30, 'minutos jugados': 1259, 'tarjetas amarillas': 4, 'tarjetas rojas': 0, 'numero lesiones': 2, 'partidos como internacional': 0}}}\n",
      "{'_id': ObjectId('674769af1d7a4a76639b34e6'), 'identificador': 80, 'nombre': 'Priya', 'apellido_1': 'Muller', 'apellido_2': 'Haddad', 'posicion': 'Delantera', 'equipo': 'Juventus', 'liga': 'Serie A (Italia)', 'dorsal': 3, 'temporadas en equipo': 2, 'capitana': 'Si', 'nacionalidad': 'China', 'anio de inicio': 2022, 'edad': 16, 'altura': 175, 'peso': 64, 'pierna dominante': 'Derecha', 'estadisticas': {'2022': {'goles': 19, 'asistencias': 12, 'porcentaje disparos gol': 98, 'porcentaje pases acertados': 64, 'porcentaje duelos aereos ganados': 57, 'velocidad maxima': 29, 'minutos jugados': 3012, 'tarjetas amarillas': 9, 'tarjetas rojas': 0, 'numero lesiones': 1, 'partidos como internacional': 17}, '2023': {'goles': 17, 'asistencias': 14, 'porcentaje disparos gol': 79, 'porcentaje pases acertados': 52, 'porcentaje duelos aereos ganados': 25, 'velocidad maxima': 29, 'minutos jugados': 3855, 'tarjetas amarillas': 0, 'tarjetas rojas': 0, 'numero lesiones': 2, 'partidos como internacional': 5}}}\n",
      "{'_id': ObjectId('674769af1d7a4a76639b34e9'), 'identificador': 83, 'nombre': 'Mei', 'apellido_1': 'Khan', 'apellido_2': \"O'Connor\", 'posicion': 'Defensa', 'equipo': 'Inter de Milan', 'liga': None, 'dorsal': 6, 'temporadas en equipo': 3, 'capitana': 'No', 'nacionalidad': 'China', 'anio de inicio': 2023, 'edad': 19, 'altura': 190, 'peso': 53, 'pierna dominante': 'Ambas', 'estadisticas': {'2023': {'goles': 6, 'asistencias': 7, 'porcentaje disparos gol': 68, 'porcentaje pases acertados': 56, 'porcentaje duelos aereos ganados': 58, 'velocidad maxima': 27, 'minutos jugados': 1224, 'tarjetas amarillas': 8, 'tarjetas rojas': 1, 'numero lesiones': 2, 'partidos como internacional': 11}}}\n",
      "{'_id': ObjectId('674769af1d7a4a76639b34ea'), 'identificador': 84, 'nombre': 'Amara', 'apellido_1': 'Dupont', 'apellido_2': 'Kowalski', 'posicion': 'Delantera', 'equipo': 'Napoli', 'liga': 'Serie A', 'dorsal': 24, 'temporadas en equipo': 3, 'capitana': 'No', 'nacionalidad': 'Italiana', 'anio de inicio': 2023, 'edad': 20, 'altura': 187, 'peso': 60, 'pierna dominante': 'Derecha', 'estadisticas': {'2023': {'goles': 15, 'asistencias': 17, 'porcentaje disparos gol': 64, 'porcentaje pases acertados': 93, 'porcentaje duelos aereos ganados': 85, 'velocidad maxima': 27, 'minutos jugados': 2265, 'tarjetas amarillas': 2, 'tarjetas rojas': 2, 'numero lesiones': 0, 'partidos como internacional': 11}}}\n",
      "{'_id': ObjectId('674769af1d7a4a76639b34ed'), 'identificador': 87, 'nombre': 'Emily', 'apellido_1': 'Khan', 'apellido_2': \"O'Connor\", 'posicion': 'Centrocampista', 'equipo': 'Real Madrid', 'liga': 'La Liga', 'dorsal': 2, 'temporadas en equipo': 3, 'capitana': 'No', 'nacionalidad': 'Polaca', 'anio de inicio': 2022, 'edad': 21, 'altura': 154, 'peso': 63, 'pierna dominante': 'Ambas', 'estadisticas': {'2022': {'goles': 14, 'asistencias': 2, 'porcentaje disparos gol': 97, 'porcentaje pases acertados': 56, 'porcentaje duelos aereos ganados': 26, 'velocidad maxima': 26, 'minutos jugados': 3237, 'tarjetas amarillas': 2, 'tarjetas rojas': 2, 'numero lesiones': 2, 'partidos como internacional': 20}, '2023': {'goles': 19, 'asistencias': 8, 'porcentaje disparos gol': 96, 'porcentaje pases acertados': 100, 'porcentaje duelos aereos ganados': 60, 'velocidad maxima': 28, 'minutos jugados': 1129, 'tarjetas amarillas': 0, 'tarjetas rojas': 4, 'numero lesiones': 1, 'partidos como internacional': 17}}}\n",
      "{'_id': ObjectId('674769af1d7a4a76639b34f1'), 'identificador': 91, 'nombre': 'Maria', 'apellido_1': 'Dupont', 'apellido_2': 'Oliveira', 'posicion': 'Centrocampista', 'equipo': 'Atletico de Madrid', 'liga': 'La Liga', 'dorsal': 8, 'temporadas en equipo': 3, 'capitana': 'No', 'nacionalidad': 'Japonesa', 'anio de inicio': 2022, 'edad': 20, 'altura': 188, 'peso': 65, 'pierna dominante': 'Izquierda', 'estadisticas': {'2022': {'goles': 13, 'asistencias': 0, 'porcentaje disparos gol': 52, 'porcentaje pases acertados': 79, 'porcentaje duelos aereos ganados': 28, 'velocidad maxima': 26, 'minutos jugados': 3972, 'tarjetas amarillas': 4, 'tarjetas rojas': 3, 'numero lesiones': 0, 'partidos como internacional': 0}, '2023': {'goles': 1, 'asistencias': 6, 'porcentaje disparos gol': 74, 'porcentaje pases acertados': 99, 'porcentaje duelos aereos ganados': 65, 'velocidad maxima': 27, 'minutos jugados': 2234, 'tarjetas amarillas': 9, 'tarjetas rojas': 0, 'numero lesiones': 2, 'partidos como internacional': 14}}}\n",
      "{'_id': ObjectId('674769af1d7a4a76639b34f3'), 'identificador': 93, 'nombre': 'Priya', 'apellido_1': 'Garcia', 'apellido_2': 'Santos', 'posicion': 'Delantera', 'equipo': 'Real Madrid', 'liga': 'La Liga', 'dorsal': 24, 'temporadas en equipo': 1, 'capitana': 'No', 'nacionalidad': 'Espaniola', 'anio de inicio': 2022, 'edad': 19, 'altura': 163, 'peso': 69, 'pierna dominante': 'Izquierda', 'estadisticas': {'2022': {'goles': 13, 'asistencias': 14, 'porcentaje disparos gol': 63, 'porcentaje pases acertados': 86, 'porcentaje duelos aereos ganados': 100, 'velocidad maxima': 27, 'minutos jugados': 3985, 'tarjetas amarillas': 0, 'tarjetas rojas': 1, 'numero lesiones': 1, 'partidos como internacional': 15}, '2023': {'goles': 2, 'asistencias': 19, 'porcentaje disparos gol': 59, 'porcentaje pases acertados': 66, 'porcentaje duelos aereos ganados': 39, 'velocidad maxima': 28, 'minutos jugados': 2277, 'tarjetas amarillas': 9, 'tarjetas rojas': 1, 'numero lesiones': 1, 'partidos como internacional': 8}}}\n",
      "{'_id': ObjectId('674769af1d7a4a76639b34f4'), 'identificador': 94, 'nombre': 'Emily', 'apellido_1': 'Kim', 'apellido_2': \"O'Connor\", 'posicion': 'Centrocampista', 'equipo': 'Atletico de Madrid', 'liga': 'La Liga', 'dorsal': 7, 'temporadas en equipo': 2, 'capitana': 'No', 'nacionalidad': 'Argentina', 'anio de inicio': 2022, 'edad': 21, 'altura': 178, 'peso': 63, 'pierna dominante': 'Izquierda', 'estadisticas': {'2022': {'goles': 7, 'asistencias': 0, 'porcentaje disparos gol': 65, 'porcentaje pases acertados': 71, 'porcentaje duelos aereos ganados': 27, 'velocidad maxima': 28, 'minutos jugados': 1218, 'tarjetas amarillas': 4, 'tarjetas rojas': 1, 'numero lesiones': 2, 'partidos como internacional': 4}, '2023': {'goles': 9, 'asistencias': 6, 'porcentaje disparos gol': 92, 'porcentaje pases acertados': 74, 'porcentaje duelos aereos ganados': 44, 'velocidad maxima': 28, 'minutos jugados': 1634, 'tarjetas amarillas': 4, 'tarjetas rojas': 2, 'numero lesiones': 1, 'partidos como internacional': 5}}}\n",
      "{'_id': ObjectId('674769af1d7a4a76639b34f6'), 'identificador': 96, 'nombre': 'Chloe', 'apellido_1': 'Kim', 'apellido_2': 'Haddad', 'posicion': 'Centrocampista', 'equipo': 'Napoli', 'liga': 'Serie A', 'dorsal': 6, 'temporadas en equipo': 2, 'capitana': 'No', 'nacionalidad': 'Estadounidense', 'anio de inicio': 2023, 'edad': 19, 'altura': 169, 'peso': 69, 'pierna dominante': 'Ambas', 'estadisticas': {'2023': {'goles': 17, 'asistencias': 14, 'porcentaje disparos gol': 100, 'porcentaje pases acertados': 61, 'porcentaje duelos aereos ganados': 95, 'velocidad maxima': 25, 'minutos jugados': 2855, 'tarjetas amarillas': 10, 'tarjetas rojas': 5, 'numero lesiones': 2, 'partidos como internacional': 7}}}\n",
      "{'_id': ObjectId('674769af1d7a4a76639b34f7'), 'identificador': 97, 'nombre': 'Priya', 'apellido_1': 'Ivanov', 'apellido_2': 'Kim', 'posicion': 'Defensa', 'equipo': 'Arsenal', 'liga': 'Premier League', 'dorsal': 27, 'temporadas en equipo': 2, 'capitana': 'Si', 'nacionalidad': 'Argentina', 'anio de inicio': 2023, 'edad': 18, 'altura': 182, 'peso': 64, 'pierna dominante': 'Derecha', 'estadisticas': {'2023': {'goles': 1, 'asistencias': 11, 'porcentaje disparos gol': 92, 'porcentaje pases acertados': 62, 'porcentaje duelos aereos ganados': 48, 'velocidad maxima': 26, 'minutos jugados': 2280, 'tarjetas amarillas': 0, 'tarjetas rojas': 0, 'numero lesiones': 2, 'partidos como internacional': 15}}}\n",
      "{'_id': ObjectId('674769af1d7a4a76639b34f9'), 'identificador': 99, 'nombre': 'Mei', 'apellido_1': 'Ivanov', 'apellido_2': 'Garcia', 'posicion': 'Centrocampista', 'equipo': 'Real Madrid', 'liga': 'La Liga', 'dorsal': 9, 'temporadas en equipo': 2, 'capitana': 'No', 'nacionalidad': 'Rusa', 'anio de inicio': 2023, 'edad': 19, 'altura': 158, 'peso': 68, 'pierna dominante': 'Izquierda', 'estadisticas': {'2023': {'goles': 7, 'asistencias': 7, 'porcentaje disparos gol': 97, 'porcentaje pases acertados': 57, 'porcentaje duelos aereos ganados': 49, 'velocidad maxima': 30, 'minutos jugados': 1994, 'tarjetas amarillas': 4, 'tarjetas rojas': 4, 'numero lesiones': 2, 'partidos como internacional': 8}}}\n",
      "Tiempo de ejecución: 0.0001 segundos\n"
     ]
    }
   ],
   "source": [
    "import time\n",
    "\n",
    "# Registrar tiempo inicial.\n",
    "start_time = time.time()\n",
    "\n",
    "# Realizar la consulta para jugadoras que comenzaron en el fútbol profesional a partir del 2021.\n",
    "resultados = players.find({\"anio de inicio\": {'$gt':2021}})\n",
    "\n",
    "# Registrar tiempo final.\n",
    "end_time = time.time()\n",
    "\n",
    "# Convertir resultados a una lista y mostrarlos.\n",
    "resultados_lista = list(resultados)\n",
    "\n",
    "for doc in resultados_lista:\n",
    "    print(doc)\n",
    "\n",
    "# Calcular y mostrar el tiempo de ejecución.\n",
    "print(f\"Tiempo de ejecución: {end_time - start_time:.4f} segundos\")"
   ]
  },
  {
   "cell_type": "markdown",
   "metadata": {},
   "source": [
    "Vemos que el tiempo de ejecución es muy bajo. Esto permite ver que MongoDB sería una herramienta adecuada para un caso real de este tipo en el que se tuviera un mayor volumen de datos (pongamos varios miles de jugadoras en lugar de 100), ya que los tiempos de respuesta seguirían siendo mínimos."
   ]
  },
  {
   "cell_type": "markdown",
   "metadata": {},
   "source": [
    "Por otro lado, también se podría querer filtrar en función del equipo en el que juega la jugadora. A modo de ejemplo, vamos a mostrar únicamente aquellas que juegan en el Manchester City."
   ]
  },
  {
   "cell_type": "code",
   "execution_count": 181,
   "metadata": {},
   "outputs": [
    {
     "name": "stdout",
     "output_type": "stream",
     "text": [
      "{'_id': ObjectId('674769af1d7a4a76639b34aa'), 'identificador': 20, 'nombre': 'Carmen', 'apellido_1': 'Oliveira', 'apellido_2': 'Kim', 'posicion': 'Defensa', 'equipo': 'Manchester City', 'liga': 'Premier League', 'dorsal': 15, 'temporadas en equipo': 1, 'capitana': 'No', 'nacionalidad': 'Alemana', 'anio de inicio': 2020, 'edad': 18, 'altura': 165, 'peso': 59, 'pierna dominante': 'Derecha', 'estadisticas': {'2020': {'goles': 7, 'asistencias': 16, 'porcentaje disparos gol': 84, 'porcentaje pases acertados': 79, 'porcentaje duelos aereos ganados': 41, 'velocidad maxima': 30, 'minutos jugados': 1225, 'tarjetas amarillas': 8, 'tarjetas rojas': 1, 'numero lesiones': 0, 'partidos como internacional': 14}, '2021': {'goles': 0, 'asistencias': 16, 'porcentaje disparos gol': 70, 'porcentaje pases acertados': 87, 'porcentaje duelos aereos ganados': 69, 'velocidad maxima': 25, 'minutos jugados': 2981, 'tarjetas amarillas': 4, 'tarjetas rojas': 1, 'numero lesiones': 0, 'partidos como internacional': 9}, '2022': {'goles': 17, 'asistencias': 18, 'porcentaje disparos gol': 73, 'porcentaje pases acertados': 70, 'porcentaje duelos aereos ganados': 34, 'velocidad maxima': 30, 'minutos jugados': 3207, 'tarjetas amarillas': 1, 'tarjetas rojas': 1, 'numero lesiones': 2, 'partidos como internacional': 0}, '2023': {'goles': 7, 'asistencias': 18, 'porcentaje disparos gol': 52, 'porcentaje pases acertados': 58, 'porcentaje duelos aereos ganados': 86, 'velocidad maxima': 29, 'minutos jugados': 2473, 'tarjetas amarillas': 10, 'tarjetas rojas': 5, 'numero lesiones': 1, 'partidos como internacional': 3}}}\n",
      "{'_id': ObjectId('674769af1d7a4a76639b34b6'), 'identificador': 32, 'nombre': 'Anya', 'apellido_1': 'Kowalski', 'apellido_2': \"O'Connor\", 'posicion': 'Defensa', 'equipo': 'Manchester City', 'liga': 'Premier League', 'dorsal': 16, 'temporadas en equipo': 2, 'capitana': 'No', 'nacionalidad': 'India', 'anio de inicio': 2020, 'edad': 18, 'altura': 174, 'peso': 61, 'pierna dominante': 'Derecha', 'estadisticas': {'2020': {'goles': 6, 'asistencias': 7, 'porcentaje disparos gol': 74, 'porcentaje pases acertados': 77, 'porcentaje duelos aereos ganados': 100, 'velocidad maxima': 25, 'minutos jugados': 1935, 'tarjetas amarillas': 6, 'tarjetas rojas': 2, 'numero lesiones': 1, 'partidos como internacional': 19}, '2021': {'goles': 19, 'asistencias': 20, 'porcentaje disparos gol': 77, 'porcentaje pases acertados': 72, 'porcentaje duelos aereos ganados': 39, 'velocidad maxima': 25, 'minutos jugados': 2567, 'tarjetas amarillas': 10, 'tarjetas rojas': 2, 'numero lesiones': 1, 'partidos como internacional': 5}, '2022': {'goles': 19, 'asistencias': 15, 'porcentaje disparos gol': 100, 'porcentaje pases acertados': 67, 'porcentaje duelos aereos ganados': 72, 'velocidad maxima': 30, 'minutos jugados': 2399, 'tarjetas amarillas': 1, 'tarjetas rojas': 5, 'numero lesiones': 2, 'partidos como internacional': 8}, '2023': {'goles': 18, 'asistencias': 19, 'porcentaje disparos gol': 89, 'porcentaje pases acertados': 76, 'porcentaje duelos aereos ganados': 87, 'velocidad maxima': 27, 'minutos jugados': 925, 'tarjetas amarillas': 9, 'tarjetas rojas': 0, 'numero lesiones': 2, 'partidos como internacional': 14}}}\n",
      "{'_id': ObjectId('674769af1d7a4a76639b34b7'), 'identificador': 33, 'nombre': 'Amara', 'apellido_1': 'Ivanov', 'apellido_2': \"O'Connor\", 'posicion': 'Delantera', 'equipo': 'Manchester City', 'liga': 'Premier League', 'dorsal': 30, 'temporadas en equipo': 3, 'capitana': 'Si', 'nacionalidad': 'Italiana', 'anio de inicio': 2022, 'edad': 17, 'altura': 167, 'peso': 64, 'pierna dominante': 'Izquierda', 'estadisticas': {'2022': {'goles': 12, 'asistencias': 11, 'porcentaje disparos gol': 79, 'porcentaje pases acertados': 50, 'porcentaje duelos aereos ganados': 28, 'velocidad maxima': 25, 'minutos jugados': 2173, 'tarjetas amarillas': 3, 'tarjetas rojas': 1, 'numero lesiones': 1, 'partidos como internacional': 16}, '2023': {'goles': 8, 'asistencias': 16, 'porcentaje disparos gol': 50, 'porcentaje pases acertados': 94, 'porcentaje duelos aereos ganados': 84, 'velocidad maxima': 28, 'minutos jugados': 1738, 'tarjetas amarillas': 6, 'tarjetas rojas': 3, 'numero lesiones': 1, 'partidos como internacional': 8}}}\n",
      "{'_id': ObjectId('674769af1d7a4a76639b34c9'), 'identificador': 51, 'nombre': 'Fatima', 'apellido_1': 'Kim', 'apellido_2': 'Dupont', 'posicion': 'Defensa', 'equipo': 'Manchester City', 'liga': 'Premier League', 'dorsal': 22, 'temporadas en equipo': 2, 'capitana': 'Si', 'nacionalidad': 'Japonesa', 'anio de inicio': 2021, 'edad': 19, 'altura': 168, 'peso': 65, 'pierna dominante': 'Izquierda', 'estadisticas': {'2021': {'goles': 7, 'asistencias': 19, 'porcentaje disparos gol': 98, 'porcentaje pases acertados': 73, 'porcentaje duelos aereos ganados': 69, 'velocidad maxima': 30, 'minutos jugados': 2196, 'tarjetas amarillas': 1, 'tarjetas rojas': 1, 'numero lesiones': 1, 'partidos como internacional': 3}, '2022': {'goles': 13, 'asistencias': 18, 'porcentaje disparos gol': 73, 'porcentaje pases acertados': 85, 'porcentaje duelos aereos ganados': 27, 'velocidad maxima': 30, 'minutos jugados': 1471, 'tarjetas amarillas': 0, 'tarjetas rojas': 0, 'numero lesiones': 0, 'partidos como internacional': 2}, '2023': {'goles': 18, 'asistencias': 1, 'porcentaje disparos gol': 85, 'porcentaje pases acertados': 82, 'porcentaje duelos aereos ganados': 96, 'velocidad maxima': 29, 'minutos jugados': 1563, 'tarjetas amarillas': 4, 'tarjetas rojas': 1, 'numero lesiones': 0, 'partidos como internacional': 8}}}\n",
      "{'_id': ObjectId('674769af1d7a4a76639b34cc'), 'identificador': 54, 'nombre': 'Chloe', 'apellido_1': 'Patel', 'apellido_2': \"O'Connor\", 'posicion': 'Defensa', 'equipo': 'Manchester City', 'liga': 'Premier League', 'dorsal': 21, 'temporadas en equipo': 3, 'capitana': 'Si', 'nacionalidad': 'Francesa', 'anio de inicio': 2022, 'edad': 19, 'altura': 182, 'peso': 56, 'pierna dominante': 'Izquierda', 'estadisticas': {'2022': {'goles': 13, 'asistencias': 14, 'porcentaje disparos gol': 95, 'porcentaje pases acertados': 53, 'porcentaje duelos aereos ganados': 93, 'velocidad maxima': 25, 'minutos jugados': 3694, 'tarjetas amarillas': 3, 'tarjetas rojas': 3, 'numero lesiones': 1, 'partidos como internacional': 1}, '2023': {'goles': 8, 'asistencias': 5, 'porcentaje disparos gol': 86, 'porcentaje pases acertados': 82, 'porcentaje duelos aereos ganados': 80, 'velocidad maxima': 29, 'minutos jugados': 1684, 'tarjetas amarillas': 7, 'tarjetas rojas': 2, 'numero lesiones': 0, 'partidos como internacional': 14}}}\n",
      "{'_id': ObjectId('674769af1d7a4a76639b34d6'), 'identificador': 64, 'nombre': 'Fatima', 'apellido_1': 'Santos', 'apellido_2': 'Smith', 'posicion': 'Delantera', 'equipo': 'Manchester City', 'liga': 'Premier League', 'dorsal': 11, 'temporadas en equipo': 1, 'capitana': 'Si', 'nacionalidad': 'Mexicana', 'anio de inicio': 2021, 'edad': 21, 'altura': 155, 'peso': 69, 'pierna dominante': 'Izquierda', 'estadisticas': {'2021': {'goles': 19, 'asistencias': 3, 'porcentaje disparos gol': 60, 'porcentaje pases acertados': 79, 'porcentaje duelos aereos ganados': 98, 'velocidad maxima': 25, 'minutos jugados': 3175, 'tarjetas amarillas': 1, 'tarjetas rojas': 3, 'numero lesiones': 0, 'partidos como internacional': 18}, '2022': {'goles': 2, 'asistencias': 14, 'porcentaje disparos gol': 63, 'porcentaje pases acertados': 52, 'porcentaje duelos aereos ganados': 84, 'velocidad maxima': 26, 'minutos jugados': 3124, 'tarjetas amarillas': 0, 'tarjetas rojas': 1, 'numero lesiones': 2, 'partidos como internacional': 0}, '2023': {'goles': 16, 'asistencias': 8, 'porcentaje disparos gol': 55, 'porcentaje pases acertados': 99, 'porcentaje duelos aereos ganados': 67, 'velocidad maxima': 26, 'minutos jugados': 3846, 'tarjetas amarillas': 7, 'tarjetas rojas': 5, 'numero lesiones': 2, 'partidos como internacional': 1}}}\n",
      "{'_id': ObjectId('674769af1d7a4a76639b34dc'), 'identificador': 70, 'nombre': 'Zofia', 'apellido_1': 'Patel', 'apellido_2': 'Haddad', 'posicion': 'Defensa', 'equipo': 'Manchester City', 'liga': 'Premier League', 'dorsal': 14, 'temporadas en equipo': 3, 'capitana': 'Si', 'nacionalidad': 'Rusa', 'anio de inicio': 2023, 'edad': 21, 'altura': 160, 'peso': 50, 'pierna dominante': 'Derecha', 'estadisticas': {'2023': {'goles': 6, 'asistencias': 7, 'porcentaje disparos gol': 63, 'porcentaje pases acertados': 54, 'porcentaje duelos aereos ganados': 47, 'velocidad maxima': 25, 'minutos jugados': 3549, 'tarjetas amarillas': 3, 'tarjetas rojas': 5, 'numero lesiones': 0, 'partidos como internacional': 2}}}\n",
      "Tiempo de ejecución: 0.0001 segundos\n"
     ]
    }
   ],
   "source": [
    "# Registrar tiempo inicial.\n",
    "start_time = time.time()\n",
    "\n",
    "# Realizar la consulta para jugadoras que juegan en el equipo deseado.\n",
    "resultados = players.find({\"equipo\": 'Manchester City'})\n",
    "\n",
    "# Registrar tiempo final.\n",
    "end_time = time.time()\n",
    "\n",
    "# Convertir resultados a una lista y mostrarlos.\n",
    "resultados_lista = list(resultados)\n",
    "\n",
    "for doc in resultados_lista:\n",
    "    print(doc)\n",
    "\n",
    "# Calcular y mostrar el tiempo de ejecución.\n",
    "print(f\"Tiempo de ejecución: {end_time - start_time:.4f} segundos\")"
   ]
  },
  {
   "cell_type": "markdown",
   "metadata": {},
   "source": [
    "Pasemos ahora a filtrar por nacionalidad para mostrar sólo jugadoras japonesas."
   ]
  },
  {
   "cell_type": "code",
   "execution_count": 182,
   "metadata": {},
   "outputs": [
    {
     "name": "stdout",
     "output_type": "stream",
     "text": [
      "{'_id': ObjectId('674769af1d7a4a76639b34a0'), 'identificador': 10, 'nombre': 'Priya', 'apellido_1': \"O'Connor\", 'apellido_2': 'Ivanov', 'posicion': 'Defensa', 'equipo': 'Borussia Dortmund', 'liga': 'Bundesliga', 'dorsal': 11, 'temporadas en equipo': 2, 'capitana': 'No', 'nacionalidad': 'Japonesa', 'anio de inicio': 2022, 'edad': 16, 'altura': 182, 'peso': 68, 'pierna dominante': 'Derecha', 'estadisticas': {'2022': {'goles': 0, 'asistencias': 11, 'porcentaje disparos gol': 63, 'porcentaje pases acertados': 98, 'porcentaje duelos aereos ganados': 48, 'velocidad maxima': 26, 'minutos jugados': 1201, 'tarjetas amarillas': 1, 'tarjetas rojas': 1, 'numero lesiones': 1, 'partidos como internacional': 12}, '2023': {'goles': 19, 'asistencias': 14, 'porcentaje disparos gol': 71, 'porcentaje pases acertados': 53, 'porcentaje duelos aereos ganados': 99, 'velocidad maxima': 27, 'minutos jugados': 3473, 'tarjetas amarillas': 4, 'tarjetas rojas': 3, 'numero lesiones': 1, 'partidos como internacional': 11}}}\n",
      "{'_id': ObjectId('674769af1d7a4a76639b34ba'), 'identificador': 36, 'nombre': 'Emily', 'apellido_1': 'Kowalski', 'apellido_2': 'Haddad', 'posicion': 'Centrocampista', 'equipo': 'Atletico de Madrid', 'liga': 'La Liga', 'dorsal': 18, 'temporadas en equipo': 2, 'capitana': 'Si', 'nacionalidad': 'Japonesa', 'anio de inicio': 2023, 'edad': 16, 'altura': 190, 'peso': 58, 'pierna dominante': 'Izquierda', 'estadisticas': {'2023': {'goles': 14, 'asistencias': 18, 'porcentaje disparos gol': 82, 'porcentaje pases acertados': 97, 'porcentaje duelos aereos ganados': 77, 'velocidad maxima': 26, 'minutos jugados': 1477, 'tarjetas amarillas': 4, 'tarjetas rojas': 5, 'numero lesiones': 1, 'partidos como internacional': 7}}}\n",
      "{'_id': ObjectId('674769af1d7a4a76639b34c9'), 'identificador': 51, 'nombre': 'Fatima', 'apellido_1': 'Kim', 'apellido_2': 'Dupont', 'posicion': 'Defensa', 'equipo': 'Manchester City', 'liga': 'Premier League', 'dorsal': 22, 'temporadas en equipo': 2, 'capitana': 'Si', 'nacionalidad': 'Japonesa', 'anio de inicio': 2021, 'edad': 19, 'altura': 168, 'peso': 65, 'pierna dominante': 'Izquierda', 'estadisticas': {'2021': {'goles': 7, 'asistencias': 19, 'porcentaje disparos gol': 98, 'porcentaje pases acertados': 73, 'porcentaje duelos aereos ganados': 69, 'velocidad maxima': 30, 'minutos jugados': 2196, 'tarjetas amarillas': 1, 'tarjetas rojas': 1, 'numero lesiones': 1, 'partidos como internacional': 3}, '2022': {'goles': 13, 'asistencias': 18, 'porcentaje disparos gol': 73, 'porcentaje pases acertados': 85, 'porcentaje duelos aereos ganados': 27, 'velocidad maxima': 30, 'minutos jugados': 1471, 'tarjetas amarillas': 0, 'tarjetas rojas': 0, 'numero lesiones': 0, 'partidos como internacional': 2}, '2023': {'goles': 18, 'asistencias': 1, 'porcentaje disparos gol': 85, 'porcentaje pases acertados': 82, 'porcentaje duelos aereos ganados': 96, 'velocidad maxima': 29, 'minutos jugados': 1563, 'tarjetas amarillas': 4, 'tarjetas rojas': 1, 'numero lesiones': 0, 'partidos como internacional': 8}}}\n",
      "{'_id': ObjectId('674769af1d7a4a76639b34cb'), 'identificador': 53, 'nombre': 'Zofia', 'apellido_1': 'Andersson', 'apellido_2': 'Santos', 'posicion': 'Delantera', 'equipo': 'Atletico de Madrid', 'liga': 'La Liga', 'dorsal': 2, 'temporadas en equipo': 1, 'capitana': 'Si', 'nacionalidad': 'Japonesa', 'anio de inicio': 2020, 'edad': 18, 'altura': 173, 'peso': 63, 'pierna dominante': 'Derecha', 'estadisticas': {'2020': {'goles': 6, 'asistencias': 18, 'porcentaje disparos gol': 93, 'porcentaje pases acertados': 100, 'porcentaje duelos aereos ganados': 71, 'velocidad maxima': 29, 'minutos jugados': 1706, 'tarjetas amarillas': 9, 'tarjetas rojas': 4, 'numero lesiones': 0, 'partidos como internacional': 2}, '2021': {'goles': 19, 'asistencias': 3, 'porcentaje disparos gol': 55, 'porcentaje pases acertados': 65, 'porcentaje duelos aereos ganados': 99, 'velocidad maxima': 30, 'minutos jugados': 2168, 'tarjetas amarillas': 1, 'tarjetas rojas': 4, 'numero lesiones': 2, 'partidos como internacional': 4}, '2022': {'goles': 5, 'asistencias': 0, 'porcentaje disparos gol': 83, 'porcentaje pases acertados': 73, 'porcentaje duelos aereos ganados': 60, 'velocidad maxima': 29, 'minutos jugados': 1490, 'tarjetas amarillas': 5, 'tarjetas rojas': 1, 'numero lesiones': 0, 'partidos como internacional': 18}, '2023': {'goles': 5, 'asistencias': 6, 'porcentaje disparos gol': 84, 'porcentaje pases acertados': 55, 'porcentaje duelos aereos ganados': 50, 'velocidad maxima': 28, 'minutos jugados': 1314, 'tarjetas amarillas': 6, 'tarjetas rojas': 3, 'numero lesiones': 2, 'partidos como internacional': 3}}}\n",
      "{'_id': ObjectId('674769af1d7a4a76639b34d5'), 'identificador': 63, 'nombre': 'Priya', 'apellido_1': 'Muller', 'apellido_2': 'Kim', 'posicion': 'Delantera', 'equipo': 'AC Milan', 'liga': 'Serie A', 'dorsal': 16, 'temporadas en equipo': 1, 'capitana': 'Si', 'nacionalidad': 'Japonesa', 'anio de inicio': 2020, 'edad': 20, 'altura': 165, 'peso': 54, 'pierna dominante': 'Derecha', 'estadisticas': {'2020': {'goles': 14, 'asistencias': 19, 'porcentaje disparos gol': 56, 'porcentaje pases acertados': 64, 'porcentaje duelos aereos ganados': 41, 'velocidad maxima': 30, 'minutos jugados': 1697, 'tarjetas amarillas': 1, 'tarjetas rojas': 1, 'numero lesiones': 1, 'partidos como internacional': 16}, '2021': {'goles': 7, 'asistencias': 15, 'porcentaje disparos gol': 98, 'porcentaje pases acertados': 88, 'porcentaje duelos aereos ganados': 25, 'velocidad maxima': 27, 'minutos jugados': 1342, 'tarjetas amarillas': 10, 'tarjetas rojas': 4, 'numero lesiones': 2, 'partidos como internacional': 14}, '2022': {'goles': 0, 'asistencias': 17, 'porcentaje disparos gol': 64, 'porcentaje pases acertados': 77, 'porcentaje duelos aereos ganados': 37, 'velocidad maxima': 26, 'minutos jugados': 3091, 'tarjetas amarillas': 5, 'tarjetas rojas': 3, 'numero lesiones': 1, 'partidos como internacional': 19}, '2023': {'goles': 20, 'asistencias': 13, 'porcentaje disparos gol': 55, 'porcentaje pases acertados': 61, 'porcentaje duelos aereos ganados': 82, 'velocidad maxima': 30, 'minutos jugados': 1732, 'tarjetas amarillas': 5, 'tarjetas rojas': 3, 'numero lesiones': 0, 'partidos como internacional': 0}}}\n",
      "{'_id': ObjectId('674769af1d7a4a76639b34ee'), 'identificador': 88, 'nombre': 'Fatima', 'apellido_1': 'Kim', 'apellido_2': 'Santos', 'posicion': 'Delantera', 'equipo': 'FC Barcelona', 'liga': 'La Liga', 'dorsal': 22, 'temporadas en equipo': 3, 'capitana': 'No', 'nacionalidad': 'Japonesa', 'anio de inicio': 2021, 'edad': 17, 'altura': 163, 'peso': 58, 'pierna dominante': 'Ambas', 'estadisticas': {'2021': {'goles': 1, 'asistencias': 3, 'porcentaje disparos gol': 79, 'porcentaje pases acertados': 97, 'porcentaje duelos aereos ganados': 25, 'velocidad maxima': 25, 'minutos jugados': 3997, 'tarjetas amarillas': 7, 'tarjetas rojas': 5, 'numero lesiones': 2, 'partidos como internacional': 16}, '2022': {'goles': 14, 'asistencias': 15, 'porcentaje disparos gol': 76, 'porcentaje pases acertados': 87, 'porcentaje duelos aereos ganados': 55, 'velocidad maxima': 25, 'minutos jugados': 1629, 'tarjetas amarillas': 3, 'tarjetas rojas': 1, 'numero lesiones': 2, 'partidos como internacional': 20}, '2023': {'goles': 2, 'asistencias': 17, 'porcentaje disparos gol': 69, 'porcentaje pases acertados': 73, 'porcentaje duelos aereos ganados': 76, 'velocidad maxima': 26, 'minutos jugados': 1166, 'tarjetas amarillas': 6, 'tarjetas rojas': 4, 'numero lesiones': 0, 'partidos como internacional': 11}}}\n",
      "{'_id': ObjectId('674769af1d7a4a76639b34f1'), 'identificador': 91, 'nombre': 'Maria', 'apellido_1': 'Dupont', 'apellido_2': 'Oliveira', 'posicion': 'Centrocampista', 'equipo': 'Atletico de Madrid', 'liga': 'La Liga', 'dorsal': 8, 'temporadas en equipo': 3, 'capitana': 'No', 'nacionalidad': 'Japonesa', 'anio de inicio': 2022, 'edad': 20, 'altura': 188, 'peso': 65, 'pierna dominante': 'Izquierda', 'estadisticas': {'2022': {'goles': 13, 'asistencias': 0, 'porcentaje disparos gol': 52, 'porcentaje pases acertados': 79, 'porcentaje duelos aereos ganados': 28, 'velocidad maxima': 26, 'minutos jugados': 3972, 'tarjetas amarillas': 4, 'tarjetas rojas': 3, 'numero lesiones': 0, 'partidos como internacional': 0}, '2023': {'goles': 1, 'asistencias': 6, 'porcentaje disparos gol': 74, 'porcentaje pases acertados': 99, 'porcentaje duelos aereos ganados': 65, 'velocidad maxima': 27, 'minutos jugados': 2234, 'tarjetas amarillas': 9, 'tarjetas rojas': 0, 'numero lesiones': 2, 'partidos como internacional': 14}}}\n",
      "Tiempo de ejecución: 0.0001 segundos\n"
     ]
    }
   ],
   "source": [
    "# Registrar tiempo inicial.\n",
    "start_time = time.time()\n",
    "\n",
    "# Realizar la consulta para jugadoras de una nacionalidad específica.\n",
    "resultados = players.find({\"nacionalidad\": 'Japonesa'})\n",
    "\n",
    "# Registrar tiempo final.\n",
    "end_time = time.time()\n",
    "\n",
    "# Convertir resultados a una lista y mostrarlos.\n",
    "resultados_lista = list(resultados)\n",
    "\n",
    "for doc in resultados_lista:\n",
    "    print(doc)\n",
    "\n",
    "# Calcular y mostrar el tiempo de ejecución.\n",
    "print(f\"Tiempo de ejecución: {end_time - start_time:.4f} segundos\")"
   ]
  },
  {
   "cell_type": "markdown",
   "metadata": {},
   "source": [
    "También es posile lanzar consultas más complejas, por ejemplo, veamos ahora qué jugadoras son defensas y juegan en el Manchester City."
   ]
  },
  {
   "cell_type": "code",
   "execution_count": 183,
   "metadata": {},
   "outputs": [
    {
     "name": "stdout",
     "output_type": "stream",
     "text": [
      "{'_id': ObjectId('674769af1d7a4a76639b34aa'), 'identificador': 20, 'nombre': 'Carmen', 'apellido_1': 'Oliveira', 'apellido_2': 'Kim', 'posicion': 'Defensa', 'equipo': 'Manchester City', 'liga': 'Premier League', 'dorsal': 15, 'temporadas en equipo': 1, 'capitana': 'No', 'nacionalidad': 'Alemana', 'anio de inicio': 2020, 'edad': 18, 'altura': 165, 'peso': 59, 'pierna dominante': 'Derecha', 'estadisticas': {'2020': {'goles': 7, 'asistencias': 16, 'porcentaje disparos gol': 84, 'porcentaje pases acertados': 79, 'porcentaje duelos aereos ganados': 41, 'velocidad maxima': 30, 'minutos jugados': 1225, 'tarjetas amarillas': 8, 'tarjetas rojas': 1, 'numero lesiones': 0, 'partidos como internacional': 14}, '2021': {'goles': 0, 'asistencias': 16, 'porcentaje disparos gol': 70, 'porcentaje pases acertados': 87, 'porcentaje duelos aereos ganados': 69, 'velocidad maxima': 25, 'minutos jugados': 2981, 'tarjetas amarillas': 4, 'tarjetas rojas': 1, 'numero lesiones': 0, 'partidos como internacional': 9}, '2022': {'goles': 17, 'asistencias': 18, 'porcentaje disparos gol': 73, 'porcentaje pases acertados': 70, 'porcentaje duelos aereos ganados': 34, 'velocidad maxima': 30, 'minutos jugados': 3207, 'tarjetas amarillas': 1, 'tarjetas rojas': 1, 'numero lesiones': 2, 'partidos como internacional': 0}, '2023': {'goles': 7, 'asistencias': 18, 'porcentaje disparos gol': 52, 'porcentaje pases acertados': 58, 'porcentaje duelos aereos ganados': 86, 'velocidad maxima': 29, 'minutos jugados': 2473, 'tarjetas amarillas': 10, 'tarjetas rojas': 5, 'numero lesiones': 1, 'partidos como internacional': 3}}}\n",
      "{'_id': ObjectId('674769af1d7a4a76639b34b6'), 'identificador': 32, 'nombre': 'Anya', 'apellido_1': 'Kowalski', 'apellido_2': \"O'Connor\", 'posicion': 'Defensa', 'equipo': 'Manchester City', 'liga': 'Premier League', 'dorsal': 16, 'temporadas en equipo': 2, 'capitana': 'No', 'nacionalidad': 'India', 'anio de inicio': 2020, 'edad': 18, 'altura': 174, 'peso': 61, 'pierna dominante': 'Derecha', 'estadisticas': {'2020': {'goles': 6, 'asistencias': 7, 'porcentaje disparos gol': 74, 'porcentaje pases acertados': 77, 'porcentaje duelos aereos ganados': 100, 'velocidad maxima': 25, 'minutos jugados': 1935, 'tarjetas amarillas': 6, 'tarjetas rojas': 2, 'numero lesiones': 1, 'partidos como internacional': 19}, '2021': {'goles': 19, 'asistencias': 20, 'porcentaje disparos gol': 77, 'porcentaje pases acertados': 72, 'porcentaje duelos aereos ganados': 39, 'velocidad maxima': 25, 'minutos jugados': 2567, 'tarjetas amarillas': 10, 'tarjetas rojas': 2, 'numero lesiones': 1, 'partidos como internacional': 5}, '2022': {'goles': 19, 'asistencias': 15, 'porcentaje disparos gol': 100, 'porcentaje pases acertados': 67, 'porcentaje duelos aereos ganados': 72, 'velocidad maxima': 30, 'minutos jugados': 2399, 'tarjetas amarillas': 1, 'tarjetas rojas': 5, 'numero lesiones': 2, 'partidos como internacional': 8}, '2023': {'goles': 18, 'asistencias': 19, 'porcentaje disparos gol': 89, 'porcentaje pases acertados': 76, 'porcentaje duelos aereos ganados': 87, 'velocidad maxima': 27, 'minutos jugados': 925, 'tarjetas amarillas': 9, 'tarjetas rojas': 0, 'numero lesiones': 2, 'partidos como internacional': 14}}}\n",
      "{'_id': ObjectId('674769af1d7a4a76639b34c9'), 'identificador': 51, 'nombre': 'Fatima', 'apellido_1': 'Kim', 'apellido_2': 'Dupont', 'posicion': 'Defensa', 'equipo': 'Manchester City', 'liga': 'Premier League', 'dorsal': 22, 'temporadas en equipo': 2, 'capitana': 'Si', 'nacionalidad': 'Japonesa', 'anio de inicio': 2021, 'edad': 19, 'altura': 168, 'peso': 65, 'pierna dominante': 'Izquierda', 'estadisticas': {'2021': {'goles': 7, 'asistencias': 19, 'porcentaje disparos gol': 98, 'porcentaje pases acertados': 73, 'porcentaje duelos aereos ganados': 69, 'velocidad maxima': 30, 'minutos jugados': 2196, 'tarjetas amarillas': 1, 'tarjetas rojas': 1, 'numero lesiones': 1, 'partidos como internacional': 3}, '2022': {'goles': 13, 'asistencias': 18, 'porcentaje disparos gol': 73, 'porcentaje pases acertados': 85, 'porcentaje duelos aereos ganados': 27, 'velocidad maxima': 30, 'minutos jugados': 1471, 'tarjetas amarillas': 0, 'tarjetas rojas': 0, 'numero lesiones': 0, 'partidos como internacional': 2}, '2023': {'goles': 18, 'asistencias': 1, 'porcentaje disparos gol': 85, 'porcentaje pases acertados': 82, 'porcentaje duelos aereos ganados': 96, 'velocidad maxima': 29, 'minutos jugados': 1563, 'tarjetas amarillas': 4, 'tarjetas rojas': 1, 'numero lesiones': 0, 'partidos como internacional': 8}}}\n",
      "{'_id': ObjectId('674769af1d7a4a76639b34cc'), 'identificador': 54, 'nombre': 'Chloe', 'apellido_1': 'Patel', 'apellido_2': \"O'Connor\", 'posicion': 'Defensa', 'equipo': 'Manchester City', 'liga': 'Premier League', 'dorsal': 21, 'temporadas en equipo': 3, 'capitana': 'Si', 'nacionalidad': 'Francesa', 'anio de inicio': 2022, 'edad': 19, 'altura': 182, 'peso': 56, 'pierna dominante': 'Izquierda', 'estadisticas': {'2022': {'goles': 13, 'asistencias': 14, 'porcentaje disparos gol': 95, 'porcentaje pases acertados': 53, 'porcentaje duelos aereos ganados': 93, 'velocidad maxima': 25, 'minutos jugados': 3694, 'tarjetas amarillas': 3, 'tarjetas rojas': 3, 'numero lesiones': 1, 'partidos como internacional': 1}, '2023': {'goles': 8, 'asistencias': 5, 'porcentaje disparos gol': 86, 'porcentaje pases acertados': 82, 'porcentaje duelos aereos ganados': 80, 'velocidad maxima': 29, 'minutos jugados': 1684, 'tarjetas amarillas': 7, 'tarjetas rojas': 2, 'numero lesiones': 0, 'partidos como internacional': 14}}}\n",
      "{'_id': ObjectId('674769af1d7a4a76639b34dc'), 'identificador': 70, 'nombre': 'Zofia', 'apellido_1': 'Patel', 'apellido_2': 'Haddad', 'posicion': 'Defensa', 'equipo': 'Manchester City', 'liga': 'Premier League', 'dorsal': 14, 'temporadas en equipo': 3, 'capitana': 'Si', 'nacionalidad': 'Rusa', 'anio de inicio': 2023, 'edad': 21, 'altura': 160, 'peso': 50, 'pierna dominante': 'Derecha', 'estadisticas': {'2023': {'goles': 6, 'asistencias': 7, 'porcentaje disparos gol': 63, 'porcentaje pases acertados': 54, 'porcentaje duelos aereos ganados': 47, 'velocidad maxima': 25, 'minutos jugados': 3549, 'tarjetas amarillas': 3, 'tarjetas rojas': 5, 'numero lesiones': 0, 'partidos como internacional': 2}}}\n",
      "Tiempo de ejecución: 0.0001 segundos\n"
     ]
    }
   ],
   "source": [
    "# Registrar tiempo inicial.\n",
    "start_time = time.time()\n",
    "\n",
    "# Realizar la consulta.\n",
    "resultados = players.find({\"equipo\": 'Manchester City', 'posicion': 'Defensa'})\n",
    "\n",
    "# Registrar tiempo final.\n",
    "end_time = time.time()\n",
    "\n",
    "# Convertir resultados a una lista y mostrarlos.\n",
    "resultados_lista = list(resultados)\n",
    "\n",
    "for doc in resultados_lista:\n",
    "    print(doc)\n",
    "\n",
    "# Calcular y mostrar el tiempo de ejecución.\n",
    "print(f\"Tiempo de ejecución: {end_time - start_time:.4f} segundos\")"
   ]
  },
  {
   "cell_type": "markdown",
   "metadata": {},
   "source": [
    "Otra posibilidad que ofrece MongoDB es la de mostrar únicamente los datos deseados de cada jugadora al devolver el resultado de una consulta. En este caso, queremos mostrar sólo las estadísticas de juego de la jugadora número 20 de la base de datos para todas sus temporadas como profesional."
   ]
  },
  {
   "cell_type": "code",
   "execution_count": 184,
   "metadata": {},
   "outputs": [
    {
     "name": "stdout",
     "output_type": "stream",
     "text": [
      "{'estadisticas': {'2020': {'goles': 7, 'asistencias': 16, 'porcentaje disparos gol': 84, 'porcentaje pases acertados': 79, 'porcentaje duelos aereos ganados': 41, 'velocidad maxima': 30, 'minutos jugados': 1225, 'tarjetas amarillas': 8, 'tarjetas rojas': 1, 'numero lesiones': 0, 'partidos como internacional': 14}, '2021': {'goles': 0, 'asistencias': 16, 'porcentaje disparos gol': 70, 'porcentaje pases acertados': 87, 'porcentaje duelos aereos ganados': 69, 'velocidad maxima': 25, 'minutos jugados': 2981, 'tarjetas amarillas': 4, 'tarjetas rojas': 1, 'numero lesiones': 0, 'partidos como internacional': 9}, '2022': {'goles': 17, 'asistencias': 18, 'porcentaje disparos gol': 73, 'porcentaje pases acertados': 70, 'porcentaje duelos aereos ganados': 34, 'velocidad maxima': 30, 'minutos jugados': 3207, 'tarjetas amarillas': 1, 'tarjetas rojas': 1, 'numero lesiones': 2, 'partidos como internacional': 0}, '2023': {'goles': 7, 'asistencias': 18, 'porcentaje disparos gol': 52, 'porcentaje pases acertados': 58, 'porcentaje duelos aereos ganados': 86, 'velocidad maxima': 29, 'minutos jugados': 2473, 'tarjetas amarillas': 10, 'tarjetas rojas': 5, 'numero lesiones': 1, 'partidos como internacional': 3}}}\n",
      "Tiempo de ejecución: 0.0001 segundos\n"
     ]
    }
   ],
   "source": [
    "# Registrar tiempo inicial.\n",
    "start_time = time.time()\n",
    "\n",
    "# Consultar estadísticas de juego de una jugadora concreta.\n",
    "resultados = players.find({\"identificador\": 20},\n",
    "                          {'estadisticas': 1, '_id': 0})\n",
    "\n",
    "# Registrar tiempo final.\n",
    "end_time = time.time()\n",
    "\n",
    "# Convertir resultados a una lista y mostrarlos.\n",
    "resultados_lista = list(resultados)\n",
    "\n",
    "for doc in resultados_lista:\n",
    "    print(doc)\n",
    "\n",
    "# Calcular y mostrar el tiempo de ejecución.\n",
    "print(f\"Tiempo de ejecución: {end_time - start_time:.4f} segundos\")"
   ]
  },
  {
   "cell_type": "markdown",
   "metadata": {},
   "source": [
    "Finalmente, aterrizando todo esto al caso de uso planteado en el documento, supóngase que nuestro equipo busca una delantera de cara a la presente temporada. Necesitamos fijarnos en jugadoras que hayan marcado más de 15 goles y dado más de 10 asistencias el pasado año, para decidir cuál de ellas sería la más adecuada para nosotros. Para ello, podría lanzarse una consulta como la mostrada debajo, que nos permite ver nombre, apellidos, posición y estadísticas de goles y asistencias de aquellas jugadoras que cumplen nuestras condiciones."
   ]
  },
  {
   "cell_type": "code",
   "execution_count": 185,
   "metadata": {},
   "outputs": [
    {
     "name": "stdout",
     "output_type": "stream",
     "text": [
      "{'nombre': 'Aisha', 'apellido_1': 'Dupont', 'apellido_2': 'Muller', 'posicion': 'Delantera', 'equipo': 'Chelsea FC', 'estadisticas': {'2022': {'goles': 16, 'asistencias': 12}}}\n",
      "{'nombre': 'Zofia', 'apellido_1': 'Ivanov', 'apellido_2': 'Patel', 'posicion': 'Delantera', 'equipo': 'Chelsea FC', 'estadisticas': {'2022': {'goles': 20, 'asistencias': 13}}}\n",
      "{'nombre': 'Priya', 'apellido_1': 'Muller', 'apellido_2': 'Haddad', 'posicion': 'Delantera', 'equipo': 'Juventus', 'estadisticas': {'2022': {'goles': 19, 'asistencias': 12}}}\n",
      "Tiempo de ejecución: 0.0001 segundos\n"
     ]
    }
   ],
   "source": [
    "# Registrar tiempo inicial.\n",
    "start_time = time.time()\n",
    "\n",
    "# Consultar jugadoras que hayan marcado más de 15 goles y dado más de 10 asistencias el pasado año.\n",
    "resultados = players.find({'estadisticas.2022.goles': {'$gt': 15}, 'estadisticas.2023.asistencias': {'$gt': 10}, 'posicion': 'Delantera'},\n",
    "                          {'_id': 0, 'nombre': 1, 'apellido_1': 1, 'apellido_2': 1, 'equipo': 1, 'posicion': 1,\n",
    "                           'estadisticas.2022.goles': 1, 'estadisticas.2022.asistencias': 1})\n",
    "\n",
    "# Registrar tiempo final.\n",
    "end_time = time.time()\n",
    "\n",
    "# Convertir resultados a una lista y mostrarlos.\n",
    "resultados_lista = list(resultados)\n",
    "\n",
    "for doc in resultados_lista:\n",
    "    print(doc)\n",
    "\n",
    "# Calcular y mostrar el tiempo de ejecución.\n",
    "print(f\"Tiempo de ejecución: {end_time - start_time:.4f} segundos\")"
   ]
  },
  {
   "cell_type": "markdown",
   "metadata": {},
   "source": [
    "## Actualización de datos"
   ]
  },
  {
   "cell_type": "markdown",
   "metadata": {},
   "source": [
    "MongoDB también ofrece la posibilidad de modificar los datos una vez se han subido a la base de datos. Para ilustrar esto, tomamos dos jugadoras (la número 1 y la número 20 de la base de datos en este caso), y modificamos sus nombres para que estén en mayúsculas. Debajo de la celda, se muestra que en efecto se han modificado dos valores y el proceso se ha realizado correctamente."
   ]
  },
  {
   "cell_type": "code",
   "execution_count": 201,
   "metadata": {},
   "outputs": [
    {
     "data": {
      "text/plain": [
       "UpdateResult({'n': 2, 'nModified': 0, 'ok': 1.0, 'updatedExisting': True}, acknowledged=True)"
      ]
     },
     "execution_count": 201,
     "metadata": {},
     "output_type": "execute_result"
    }
   ],
   "source": [
    "filter = {'identificador': {'$in': [1, 20]}}\n",
    "\n",
    "for doc in players.find(filter):\n",
    "\n",
    "    update = {'$set':  {'nombre': doc['nombre'].upper()}}\n",
    "    players.update_one({'_id': doc['_id']}, update)\n",
    "\n",
    "players.update_many(filter, update)"
   ]
  },
  {
   "cell_type": "markdown",
   "metadata": {},
   "source": [
    "Para visualizar el resultado, lanzamos una consulta para que se nos muestren los nombres que acabamos de modificar. Como podemos ver, todo ha ido según lo deseado."
   ]
  },
  {
   "cell_type": "code",
   "execution_count": 204,
   "metadata": {},
   "outputs": [
    {
     "name": "stdout",
     "output_type": "stream",
     "text": [
      "{'nombre': 'CARMEN'}\n",
      "{'nombre': 'AISHA'}\n",
      "Tiempo de ejecución: 0.0001 segundos\n"
     ]
    }
   ],
   "source": [
    "# Registrar tiempo inicial.\n",
    "start_time = time.time()\n",
    "\n",
    "# Comprobamos si los nombres de las jugadoras están en mayúsculas.\n",
    "resultados = players.find({\"identificador\": {'$in': [1, 2]}},\n",
    "                          {'nombre': 1, '_id': 0})\n",
    "\n",
    "# Registrar tiempo final.\n",
    "end_time = time.time()\n",
    "\n",
    "# Convertir resultados a una lista y mostrarlos.\n",
    "resultados_lista = list(resultados)\n",
    "\n",
    "for doc in resultados_lista:\n",
    "    print(doc)\n",
    "\n",
    "# Calcular y mostrar el tiempo de ejecución.\n",
    "print(f\"Tiempo de ejecución: {end_time - start_time:.4f} segundos\")"
   ]
  }
 ],
 "metadata": {
  "kernelspec": {
   "display_name": "base",
   "language": "python",
   "name": "python3"
  },
  "language_info": {
   "codemirror_mode": {
    "name": "ipython",
    "version": 3
   },
   "file_extension": ".py",
   "mimetype": "text/x-python",
   "name": "python",
   "nbconvert_exporter": "python",
   "pygments_lexer": "ipython3",
   "version": "3.12.2"
  }
 },
 "nbformat": 4,
 "nbformat_minor": 2
}
